{
 "cells": [
  {
   "cell_type": "code",
   "execution_count": null,
   "id": "68634534",
   "metadata": {},
   "outputs": [],
   "source": [
    "# ' \" \"\"\"/''' "
   ]
  },
  {
   "cell_type": "code",
   "execution_count": 1,
   "id": "7c0bf2c2",
   "metadata": {},
   "outputs": [],
   "source": [
    "# Java compiler code/python is a interpreter language\n",
    "\n",
    "# -> comment "
   ]
  },
  {
   "cell_type": "code",
   "execution_count": 2,
   "id": "b5968a32",
   "metadata": {},
   "outputs": [],
   "source": [
    "name='Raghul Ramesh'"
   ]
  },
  {
   "cell_type": "code",
   "execution_count": 3,
   "id": "0436f52f",
   "metadata": {},
   "outputs": [
    {
     "data": {
      "text/plain": [
       "'Raghul Ramesh'"
      ]
     },
     "execution_count": 3,
     "metadata": {},
     "output_type": "execute_result"
    }
   ],
   "source": [
    "name    #shift + enter"
   ]
  },
  {
   "cell_type": "code",
   "execution_count": 5,
   "id": "c584c1d3",
   "metadata": {},
   "outputs": [
    {
     "data": {
      "text/plain": [
       "'Raghul Ramesh'"
      ]
     },
     "execution_count": 5,
     "metadata": {},
     "output_type": "execute_result"
    }
   ],
   "source": [
    "name   #ctrl + enter"
   ]
  },
  {
   "cell_type": "code",
   "execution_count": 6,
   "id": "3a34dcde",
   "metadata": {},
   "outputs": [
    {
     "data": {
      "text/plain": [
       "'Raghul Ramesh'"
      ]
     },
     "execution_count": 6,
     "metadata": {},
     "output_type": "execute_result"
    }
   ],
   "source": [
    "name"
   ]
  },
  {
   "cell_type": "code",
   "execution_count": 7,
   "id": "148b2b4e",
   "metadata": {},
   "outputs": [
    {
     "name": "stdout",
     "output_type": "stream",
     "text": [
      "Raghul Ramesh\n"
     ]
    }
   ],
   "source": [
    "print(name)"
   ]
  },
  {
   "cell_type": "code",
   "execution_count": 8,
   "id": "536d37c6",
   "metadata": {},
   "outputs": [],
   "source": [
    "name=\"Python technology\""
   ]
  },
  {
   "cell_type": "code",
   "execution_count": 9,
   "id": "fe41fa21",
   "metadata": {},
   "outputs": [
    {
     "data": {
      "text/plain": [
       "'Python technology'"
      ]
     },
     "execution_count": 9,
     "metadata": {},
     "output_type": "execute_result"
    }
   ],
   "source": [
    "name"
   ]
  },
  {
   "cell_type": "code",
   "execution_count": 10,
   "id": "6e889f40",
   "metadata": {},
   "outputs": [
    {
     "name": "stdout",
     "output_type": "stream",
     "text": [
      "Python technology\n"
     ]
    }
   ],
   "source": [
    "print(name)"
   ]
  },
  {
   "cell_type": "code",
   "execution_count": 12,
   "id": "42f65a4d",
   "metadata": {},
   "outputs": [],
   "source": [
    "college=\"st's joseph engg college\""
   ]
  },
  {
   "cell_type": "code",
   "execution_count": 13,
   "id": "e654044a",
   "metadata": {},
   "outputs": [
    {
     "data": {
      "text/plain": [
       "\"st's joseph engg college\""
      ]
     },
     "execution_count": 13,
     "metadata": {},
     "output_type": "execute_result"
    }
   ],
   "source": [
    "college"
   ]
  },
  {
   "cell_type": "code",
   "execution_count": 14,
   "id": "9c5aedee",
   "metadata": {},
   "outputs": [
    {
     "name": "stdout",
     "output_type": "stream",
     "text": [
      "st's joseph engg college\n"
     ]
    }
   ],
   "source": [
    "print(college)"
   ]
  },
  {
   "cell_type": "code",
   "execution_count": 16,
   "id": "4a8814a9",
   "metadata": {},
   "outputs": [],
   "source": [
    "session='learning \"Python\" programmings'"
   ]
  },
  {
   "cell_type": "code",
   "execution_count": 18,
   "id": "2f5bfc98",
   "metadata": {},
   "outputs": [
    {
     "name": "stdout",
     "output_type": "stream",
     "text": [
      "learning \"Python\" programmings\n"
     ]
    }
   ],
   "source": [
    "print(session)"
   ]
  },
  {
   "cell_type": "code",
   "execution_count": 19,
   "id": "27196559",
   "metadata": {},
   "outputs": [],
   "source": [
    "training=\"Started \\\"Python\\\" trainings scheduled on '31-10-2022' at 09:30AM\""
   ]
  },
  {
   "cell_type": "code",
   "execution_count": 20,
   "id": "6cdd1b47",
   "metadata": {},
   "outputs": [
    {
     "name": "stdout",
     "output_type": "stream",
     "text": [
      "Started \"Python\" trainings scheduled on '31-10-2022' at 09:30AM\n"
     ]
    }
   ],
   "source": [
    "print(training)"
   ]
  },
  {
   "cell_type": "code",
   "execution_count": 21,
   "id": "618c24b6",
   "metadata": {},
   "outputs": [],
   "source": [
    "training='Started \"Python\" trainings scheduled on \\'31-10-2022\\' at 09:30AM'"
   ]
  },
  {
   "cell_type": "code",
   "execution_count": 22,
   "id": "8b21deaf",
   "metadata": {},
   "outputs": [
    {
     "name": "stdout",
     "output_type": "stream",
     "text": [
      "Started \"Python\" trainings scheduled on '31-10-2022' at 09:30AM\n"
     ]
    }
   ],
   "source": [
    "print(training)"
   ]
  },
  {
   "cell_type": "code",
   "execution_count": 23,
   "id": "b5b5d317",
   "metadata": {},
   "outputs": [
    {
     "ename": "SyntaxError",
     "evalue": "EOL while scanning string literal (3671785467.py, line 1)",
     "output_type": "error",
     "traceback": [
      "\u001b[1;36m  Cell \u001b[1;32mIn [23], line 1\u001b[1;36m\u001b[0m\n\u001b[1;33m    about_python=\"Python is a high level, dynamic, procedural and oop language\u001b[0m\n\u001b[1;37m                                                                              ^\u001b[0m\n\u001b[1;31mSyntaxError\u001b[0m\u001b[1;31m:\u001b[0m EOL while scanning string literal\n"
     ]
    }
   ],
   "source": [
    "about_python=\"Python is a high level, dynamic, procedural and oop language\n",
    "it was developed by gudo van rossum\n",
    "it is a complete open source technology\""
   ]
  },
  {
   "cell_type": "code",
   "execution_count": 24,
   "id": "cc90e622",
   "metadata": {},
   "outputs": [],
   "source": [
    "about_python=\"\"\"Python is a high level, dynamic, procedural and oop language\n",
    "it was developed by gudo van rossum\n",
    "it is a complete open source technology\"\"\""
   ]
  },
  {
   "cell_type": "code",
   "execution_count": 25,
   "id": "4d2daf3f",
   "metadata": {},
   "outputs": [
    {
     "name": "stdout",
     "output_type": "stream",
     "text": [
      "Python is a high level, dynamic, procedural and oop language\n",
      "it was developed by gudo van rossum\n",
      "it is a complete open source technology\n"
     ]
    }
   ],
   "source": [
    "print(about_python)"
   ]
  },
  {
   "cell_type": "code",
   "execution_count": 26,
   "id": "881c21da",
   "metadata": {},
   "outputs": [
    {
     "data": {
      "text/plain": [
       "'Python is a high level, dynamic, procedural and oop language\\nit was developed by gudo van rossum\\nit is a complete open source technology'"
      ]
     },
     "execution_count": 26,
     "metadata": {},
     "output_type": "execute_result"
    }
   ],
   "source": [
    "\"\"\"Python is a high level, dynamic, procedural and oop language\n",
    "it was developed by gudo van rossum\n",
    "it is a complete open source technology\"\"\""
   ]
  },
  {
   "cell_type": "markdown",
   "id": "1caf9060",
   "metadata": {},
   "source": [
    "# Operators"
   ]
  },
  {
   "cell_type": "markdown",
   "id": "634296dd",
   "metadata": {},
   "source": [
    "## Operators"
   ]
  },
  {
   "cell_type": "markdown",
   "id": "1a320f2b",
   "metadata": {},
   "source": [
    "### Operators"
   ]
  },
  {
   "cell_type": "markdown",
   "id": "b962320d",
   "metadata": {},
   "source": [
    "#### Operators"
   ]
  },
  {
   "cell_type": "code",
   "execution_count": 27,
   "id": "f4b5e78e",
   "metadata": {},
   "outputs": [],
   "source": [
    "# Arithmetic Operators\n",
    "# Assignment operators\n",
    "# Check operators\n",
    "# binary operatos\n",
    "# membership operatos\n",
    "# identity operatos"
   ]
  },
  {
   "cell_type": "markdown",
   "id": "3b6357fe",
   "metadata": {},
   "source": [
    "# Arithmetic Operatos( +, -, *, / , // , % , **)"
   ]
  },
  {
   "cell_type": "code",
   "execution_count": 28,
   "id": "d5187480",
   "metadata": {},
   "outputs": [
    {
     "data": {
      "text/plain": [
       "11"
      ]
     },
     "execution_count": 28,
     "metadata": {},
     "output_type": "execute_result"
    }
   ],
   "source": [
    "5+6"
   ]
  },
  {
   "cell_type": "code",
   "execution_count": 29,
   "id": "33be9362",
   "metadata": {},
   "outputs": [
    {
     "data": {
      "text/plain": [
       "-1"
      ]
     },
     "execution_count": 29,
     "metadata": {},
     "output_type": "execute_result"
    }
   ],
   "source": [
    "5-6"
   ]
  },
  {
   "cell_type": "code",
   "execution_count": 30,
   "id": "ed1aec5e",
   "metadata": {},
   "outputs": [
    {
     "data": {
      "text/plain": [
       "30"
      ]
     },
     "execution_count": 30,
     "metadata": {},
     "output_type": "execute_result"
    }
   ],
   "source": [
    "5*6"
   ]
  },
  {
   "cell_type": "code",
   "execution_count": 31,
   "id": "0f64b97b",
   "metadata": {},
   "outputs": [
    {
     "data": {
      "text/plain": [
       "0.8333333333333334"
      ]
     },
     "execution_count": 31,
     "metadata": {},
     "output_type": "execute_result"
    }
   ],
   "source": [
    "5/6"
   ]
  },
  {
   "cell_type": "code",
   "execution_count": 32,
   "id": "f4711d46",
   "metadata": {},
   "outputs": [
    {
     "data": {
      "text/plain": [
       "2"
      ]
     },
     "execution_count": 32,
     "metadata": {},
     "output_type": "execute_result"
    }
   ],
   "source": [
    "5//2"
   ]
  },
  {
   "cell_type": "code",
   "execution_count": 33,
   "id": "1c517198",
   "metadata": {},
   "outputs": [
    {
     "data": {
      "text/plain": [
       "1"
      ]
     },
     "execution_count": 33,
     "metadata": {},
     "output_type": "execute_result"
    }
   ],
   "source": [
    "5%2"
   ]
  },
  {
   "cell_type": "code",
   "execution_count": 34,
   "id": "9b1cc412",
   "metadata": {},
   "outputs": [
    {
     "data": {
      "text/plain": [
       "125"
      ]
     },
     "execution_count": 34,
     "metadata": {},
     "output_type": "execute_result"
    }
   ],
   "source": [
    "5 ** 3"
   ]
  },
  {
   "cell_type": "markdown",
   "id": "4115a160",
   "metadata": {},
   "source": [
    "# Assignment operators"
   ]
  },
  {
   "cell_type": "code",
   "execution_count": 35,
   "id": "51e284be",
   "metadata": {},
   "outputs": [],
   "source": [
    "x=10"
   ]
  },
  {
   "cell_type": "code",
   "execution_count": 36,
   "id": "5bdf8faa",
   "metadata": {},
   "outputs": [
    {
     "data": {
      "text/plain": [
       "10"
      ]
     },
     "execution_count": 36,
     "metadata": {},
     "output_type": "execute_result"
    }
   ],
   "source": [
    "x"
   ]
  },
  {
   "cell_type": "code",
   "execution_count": 37,
   "id": "977becca",
   "metadata": {},
   "outputs": [],
   "source": [
    "y=x"
   ]
  },
  {
   "cell_type": "code",
   "execution_count": 38,
   "id": "13458b7d",
   "metadata": {},
   "outputs": [
    {
     "data": {
      "text/plain": [
       "10"
      ]
     },
     "execution_count": 38,
     "metadata": {},
     "output_type": "execute_result"
    }
   ],
   "source": [
    "y"
   ]
  },
  {
   "cell_type": "code",
   "execution_count": 39,
   "id": "18edf618",
   "metadata": {},
   "outputs": [],
   "source": [
    "z=x+y"
   ]
  },
  {
   "cell_type": "code",
   "execution_count": 40,
   "id": "6118b1c7",
   "metadata": {},
   "outputs": [
    {
     "data": {
      "text/plain": [
       "20"
      ]
     },
     "execution_count": 40,
     "metadata": {},
     "output_type": "execute_result"
    }
   ],
   "source": [
    "z"
   ]
  },
  {
   "cell_type": "code",
   "execution_count": 41,
   "id": "856a420d",
   "metadata": {},
   "outputs": [],
   "source": [
    "res=x+y+z"
   ]
  },
  {
   "cell_type": "code",
   "execution_count": 42,
   "id": "0da38b17",
   "metadata": {},
   "outputs": [
    {
     "data": {
      "text/plain": [
       "40"
      ]
     },
     "execution_count": 42,
     "metadata": {},
     "output_type": "execute_result"
    }
   ],
   "source": [
    "res"
   ]
  },
  {
   "cell_type": "code",
   "execution_count": 43,
   "id": "acd9aa93",
   "metadata": {},
   "outputs": [],
   "source": [
    "country=\"India\""
   ]
  },
  {
   "cell_type": "code",
   "execution_count": 44,
   "id": "d5d1e774",
   "metadata": {},
   "outputs": [
    {
     "data": {
      "text/plain": [
       "'India'"
      ]
     },
     "execution_count": 44,
     "metadata": {},
     "output_type": "execute_result"
    }
   ],
   "source": [
    "country"
   ]
  },
  {
   "cell_type": "markdown",
   "id": "efa00b59",
   "metadata": {},
   "source": [
    "# Check Operators"
   ]
  },
  {
   "cell_type": "code",
   "execution_count": 45,
   "id": "3526e536",
   "metadata": {},
   "outputs": [
    {
     "data": {
      "text/plain": [
       "10"
      ]
     },
     "execution_count": 45,
     "metadata": {},
     "output_type": "execute_result"
    }
   ],
   "source": [
    "x"
   ]
  },
  {
   "cell_type": "code",
   "execution_count": 46,
   "id": "78495b83",
   "metadata": {},
   "outputs": [
    {
     "data": {
      "text/plain": [
       "True"
      ]
     },
     "execution_count": 46,
     "metadata": {},
     "output_type": "execute_result"
    }
   ],
   "source": [
    "x == 10"
   ]
  },
  {
   "cell_type": "code",
   "execution_count": 47,
   "id": "60b68214",
   "metadata": {},
   "outputs": [
    {
     "data": {
      "text/plain": [
       "True"
      ]
     },
     "execution_count": 47,
     "metadata": {},
     "output_type": "execute_result"
    }
   ],
   "source": [
    "x > 0"
   ]
  },
  {
   "cell_type": "code",
   "execution_count": 48,
   "id": "f7ed2bfc",
   "metadata": {},
   "outputs": [
    {
     "data": {
      "text/plain": [
       "True"
      ]
     },
     "execution_count": 48,
     "metadata": {},
     "output_type": "execute_result"
    }
   ],
   "source": [
    "x < 100"
   ]
  },
  {
   "cell_type": "code",
   "execution_count": 49,
   "id": "d4ffad62",
   "metadata": {},
   "outputs": [
    {
     "data": {
      "text/plain": [
       "False"
      ]
     },
     "execution_count": 49,
     "metadata": {},
     "output_type": "execute_result"
    }
   ],
   "source": [
    "x > 100"
   ]
  },
  {
   "cell_type": "code",
   "execution_count": 50,
   "id": "041ddc93",
   "metadata": {},
   "outputs": [
    {
     "data": {
      "text/plain": [
       "False"
      ]
     },
     "execution_count": 50,
     "metadata": {},
     "output_type": "execute_result"
    }
   ],
   "source": [
    "x < 0"
   ]
  },
  {
   "cell_type": "code",
   "execution_count": 51,
   "id": "250bd8c0",
   "metadata": {},
   "outputs": [
    {
     "data": {
      "text/plain": [
       "False"
      ]
     },
     "execution_count": 51,
     "metadata": {},
     "output_type": "execute_result"
    }
   ],
   "source": [
    "x != 10"
   ]
  },
  {
   "cell_type": "code",
   "execution_count": 52,
   "id": "cd97e56f",
   "metadata": {},
   "outputs": [],
   "source": [
    "# True False None , class_name => starts with upper case"
   ]
  },
  {
   "cell_type": "markdown",
   "id": "0283d716",
   "metadata": {},
   "source": [
    "# Membership operatos"
   ]
  },
  {
   "cell_type": "code",
   "execution_count": 55,
   "id": "157e547e",
   "metadata": {},
   "outputs": [],
   "source": [
    "nums=[1,2,3,4,7,7,5,43,2,100,5,6,78,654,43,3,21,24,4,5,67,7,7,54,3]"
   ]
  },
  {
   "cell_type": "code",
   "execution_count": 56,
   "id": "02e983e4",
   "metadata": {},
   "outputs": [
    {
     "data": {
      "text/plain": [
       "True"
      ]
     },
     "execution_count": 56,
     "metadata": {},
     "output_type": "execute_result"
    }
   ],
   "source": [
    "21 in nums"
   ]
  },
  {
   "cell_type": "code",
   "execution_count": 57,
   "id": "14bf21d4",
   "metadata": {},
   "outputs": [
    {
     "data": {
      "text/plain": [
       "True"
      ]
     },
     "execution_count": 57,
     "metadata": {},
     "output_type": "execute_result"
    }
   ],
   "source": [
    "100 in nums"
   ]
  },
  {
   "cell_type": "code",
   "execution_count": 58,
   "id": "c308ace9",
   "metadata": {},
   "outputs": [
    {
     "data": {
      "text/plain": [
       "False"
      ]
     },
     "execution_count": 58,
     "metadata": {},
     "output_type": "execute_result"
    }
   ],
   "source": [
    "99 in nums"
   ]
  },
  {
   "cell_type": "code",
   "execution_count": 59,
   "id": "43ec9919",
   "metadata": {},
   "outputs": [
    {
     "data": {
      "text/plain": [
       "True"
      ]
     },
     "execution_count": 59,
     "metadata": {},
     "output_type": "execute_result"
    }
   ],
   "source": [
    "99 not in nums"
   ]
  },
  {
   "cell_type": "code",
   "execution_count": 60,
   "id": "532304d4",
   "metadata": {},
   "outputs": [
    {
     "data": {
      "text/plain": [
       "True"
      ]
     },
     "execution_count": 60,
     "metadata": {},
     "output_type": "execute_result"
    }
   ],
   "source": [
    "111 not in nums"
   ]
  },
  {
   "cell_type": "markdown",
   "id": "e180a547",
   "metadata": {},
   "source": [
    "# Identity Operator"
   ]
  },
  {
   "cell_type": "code",
   "execution_count": 62,
   "id": "c0c42e95",
   "metadata": {},
   "outputs": [
    {
     "data": {
      "text/plain": [
       "10"
      ]
     },
     "execution_count": 62,
     "metadata": {},
     "output_type": "execute_result"
    }
   ],
   "source": [
    "x"
   ]
  },
  {
   "cell_type": "code",
   "execution_count": 63,
   "id": "ea79b9fc",
   "metadata": {},
   "outputs": [
    {
     "name": "stderr",
     "output_type": "stream",
     "text": [
      "<>:1: SyntaxWarning: \"is\" with a literal. Did you mean \"==\"?\n",
      "<>:1: SyntaxWarning: \"is\" with a literal. Did you mean \"==\"?\n",
      "C:\\Users\\DELL\\AppData\\Local\\Temp\\ipykernel_23640\\2183931627.py:1: SyntaxWarning: \"is\" with a literal. Did you mean \"==\"?\n",
      "  x is 10\n"
     ]
    },
    {
     "data": {
      "text/plain": [
       "True"
      ]
     },
     "execution_count": 63,
     "metadata": {},
     "output_type": "execute_result"
    }
   ],
   "source": [
    "x is 10"
   ]
  },
  {
   "cell_type": "code",
   "execution_count": 64,
   "id": "e216e0da",
   "metadata": {},
   "outputs": [
    {
     "name": "stderr",
     "output_type": "stream",
     "text": [
      "<>:1: SyntaxWarning: \"is\" with a literal. Did you mean \"==\"?\n",
      "<>:1: SyntaxWarning: \"is\" with a literal. Did you mean \"==\"?\n",
      "C:\\Users\\DELL\\AppData\\Local\\Temp\\ipykernel_23640\\1069372017.py:1: SyntaxWarning: \"is\" with a literal. Did you mean \"==\"?\n",
      "  x is 100\n"
     ]
    },
    {
     "data": {
      "text/plain": [
       "False"
      ]
     },
     "execution_count": 64,
     "metadata": {},
     "output_type": "execute_result"
    }
   ],
   "source": [
    "x is 100"
   ]
  },
  {
   "cell_type": "code",
   "execution_count": 65,
   "id": "f6d74fdc",
   "metadata": {},
   "outputs": [
    {
     "name": "stderr",
     "output_type": "stream",
     "text": [
      "<>:1: SyntaxWarning: \"is not\" with a literal. Did you mean \"!=\"?\n",
      "<>:1: SyntaxWarning: \"is not\" with a literal. Did you mean \"!=\"?\n",
      "C:\\Users\\DELL\\AppData\\Local\\Temp\\ipykernel_23640\\3306646882.py:1: SyntaxWarning: \"is not\" with a literal. Did you mean \"!=\"?\n",
      "  x is not 0\n"
     ]
    },
    {
     "data": {
      "text/plain": [
       "True"
      ]
     },
     "execution_count": 65,
     "metadata": {},
     "output_type": "execute_result"
    }
   ],
   "source": [
    "x is not 0"
   ]
  },
  {
   "cell_type": "markdown",
   "id": "9adb2312",
   "metadata": {},
   "source": [
    "# Binary Operators"
   ]
  },
  {
   "cell_type": "code",
   "execution_count": 67,
   "id": "462dc9a6",
   "metadata": {},
   "outputs": [
    {
     "data": {
      "text/plain": [
       "4"
      ]
     },
     "execution_count": 67,
     "metadata": {},
     "output_type": "execute_result"
    }
   ],
   "source": [
    "5&6"
   ]
  },
  {
   "cell_type": "code",
   "execution_count": 68,
   "id": "a05aadb4",
   "metadata": {},
   "outputs": [
    {
     "data": {
      "text/plain": [
       "7"
      ]
     },
     "execution_count": 68,
     "metadata": {},
     "output_type": "execute_result"
    }
   ],
   "source": [
    "5|6"
   ]
  },
  {
   "cell_type": "code",
   "execution_count": 69,
   "id": "1398edb3",
   "metadata": {},
   "outputs": [
    {
     "data": {
      "text/plain": [
       "3"
      ]
     },
     "execution_count": 69,
     "metadata": {},
     "output_type": "execute_result"
    }
   ],
   "source": [
    "5^6"
   ]
  },
  {
   "cell_type": "markdown",
   "id": "855dd329",
   "metadata": {},
   "source": [
    "# Control Statements"
   ]
  },
  {
   "cell_type": "code",
   "execution_count": 76,
   "id": "87f83295",
   "metadata": {},
   "outputs": [
    {
     "name": "stdout",
     "output_type": "stream",
     "text": [
      "x is not 10\n",
      "Else block got executed\n",
      "Thanks\n"
     ]
    }
   ],
   "source": [
    "x=100\n",
    "\n",
    "if x==10:\n",
    "    print(\"x is 10\")\n",
    "    print(\"True block got executed\")\n",
    "else:\n",
    "    print(\"x is not 10\")\n",
    "    print(\"Else block got executed\")\n",
    "    \n",
    "print(\"Thanks\")"
   ]
  },
  {
   "cell_type": "code",
   "execution_count": 82,
   "id": "4125062d",
   "metadata": {},
   "outputs": [
    {
     "name": "stdout",
     "output_type": "stream",
     "text": [
      "x is between 0 - 100 but 10\n"
     ]
    }
   ],
   "source": [
    "x=66\n",
    "\n",
    "if x==10:\n",
    "    print(\"x is 10\")\n",
    "elif x == 0:\n",
    "    print(\"x is zero\")\n",
    "elif x < 0:\n",
    "    print(\"x is assigned with negative value\")\n",
    "elif x > 100:\n",
    "    print(\"x is assigned with greater than 100\")\n",
    "else:\n",
    "    print(\"x is between 0 - 100 but 10\")\n",
    "    "
   ]
  },
  {
   "cell_type": "markdown",
   "id": "c03f79ae",
   "metadata": {},
   "source": [
    "# nested if "
   ]
  },
  {
   "cell_type": "code",
   "execution_count": 83,
   "id": "d574373f",
   "metadata": {},
   "outputs": [],
   "source": [
    "# input function"
   ]
  },
  {
   "cell_type": "code",
   "execution_count": 84,
   "id": "b0b37296",
   "metadata": {},
   "outputs": [
    {
     "name": "stdout",
     "output_type": "stream",
     "text": [
      "Enter your name:Raghul Ramesh\n"
     ]
    }
   ],
   "source": [
    "name=input(\"Enter your name:\")"
   ]
  },
  {
   "cell_type": "code",
   "execution_count": 85,
   "id": "613364d9",
   "metadata": {},
   "outputs": [
    {
     "data": {
      "text/plain": [
       "'Raghul Ramesh'"
      ]
     },
     "execution_count": 85,
     "metadata": {},
     "output_type": "execute_result"
    }
   ],
   "source": [
    "name"
   ]
  },
  {
   "cell_type": "code",
   "execution_count": 88,
   "id": "c317e24f",
   "metadata": {},
   "outputs": [
    {
     "name": "stdout",
     "output_type": "stream",
     "text": [
      "Country name:India\n"
     ]
    }
   ],
   "source": [
    "c=input(\"Country name:\")"
   ]
  },
  {
   "cell_type": "code",
   "execution_count": 89,
   "id": "58663b9e",
   "metadata": {},
   "outputs": [
    {
     "data": {
      "text/plain": [
       "'India'"
      ]
     },
     "execution_count": 89,
     "metadata": {},
     "output_type": "execute_result"
    }
   ],
   "source": [
    "c"
   ]
  },
  {
   "cell_type": "code",
   "execution_count": 92,
   "id": "a8277caa",
   "metadata": {},
   "outputs": [
    {
     "name": "stdout",
     "output_type": "stream",
     "text": [
      "Enter your age:38\n"
     ]
    }
   ],
   "source": [
    "age=int(input(\"Enter your age:\"))"
   ]
  },
  {
   "cell_type": "code",
   "execution_count": 93,
   "id": "9f15eac0",
   "metadata": {},
   "outputs": [
    {
     "data": {
      "text/plain": [
       "38"
      ]
     },
     "execution_count": 93,
     "metadata": {},
     "output_type": "execute_result"
    }
   ],
   "source": [
    "age"
   ]
  },
  {
   "cell_type": "code",
   "execution_count": 98,
   "id": "6ba46f3d",
   "metadata": {},
   "outputs": [
    {
     "name": "stdout",
     "output_type": "stream",
     "text": [
      "Enter your country name: Australia\n",
      "Enter your age: 55\n",
      "Please follow your country : Australia standards\n"
     ]
    }
   ],
   "source": [
    "country=input(\"Enter your country name: \")\n",
    "age = int(input(\"Enter your age: \"))\n",
    "\n",
    "if country == \"India\":\n",
    "    if age >= 18:\n",
    "        print(\"You can vote\")\n",
    "    else:\n",
    "        print(\"You cannot vote!\")\n",
    "else:\n",
    "    print(f\"Please follow your country : {country} standards\")"
   ]
  },
  {
   "cell_type": "code",
   "execution_count": 102,
   "id": "5831421e",
   "metadata": {},
   "outputs": [
    {
     "name": "stdout",
     "output_type": "stream",
     "text": [
      "x is 100 y is 20\n"
     ]
    }
   ],
   "source": [
    "x=100\n",
    "y=20\n",
    "\n",
    "if x==10 and y==20:\n",
    "    print(\"x is 10 and y is 20\")\n",
    "elif x < 0 or y < 0:\n",
    "    print(\"either x or y is holding negative value\")\n",
    "else:\n",
    "    print(f\"x is {x} y is {y}\")"
   ]
  },
  {
   "cell_type": "code",
   "execution_count": 107,
   "id": "96b4c82d",
   "metadata": {},
   "outputs": [
    {
     "name": "stdout",
     "output_type": "stream",
     "text": [
      "Do you want to proceed: q\n",
      "Invalid option\n"
     ]
    }
   ],
   "source": [
    "choice = input(\"Do you want to proceed: \")\n",
    "\n",
    "if choice=='y' or choice=='Y':\n",
    "    print(\"You said yes\")\n",
    "elif choice=='n' or choice=='N':\n",
    "    print(\"You said no\")\n",
    "else:\n",
    "    print(\"Invalid option\")"
   ]
  },
  {
   "cell_type": "code",
   "execution_count": 111,
   "id": "11a1ea5b",
   "metadata": {},
   "outputs": [
    {
     "name": "stdout",
     "output_type": "stream",
     "text": [
      "Do you want to proceed: N\n",
      "You said no\n"
     ]
    }
   ],
   "source": [
    "choice = input(\"Do you want to proceed: \")\n",
    "\n",
    "if choice.casefold() == 'y':\n",
    "    print(\"You said yes\")\n",
    "elif choice.casefold()=='n':\n",
    "    print(\"You said no\")\n",
    "else:\n",
    "    print(\"Invalid option\")"
   ]
  },
  {
   "cell_type": "markdown",
   "id": "90004d25",
   "metadata": {},
   "source": [
    "# LOOPS"
   ]
  },
  {
   "cell_type": "markdown",
   "id": "67c937df",
   "metadata": {},
   "source": [
    "## While loop"
   ]
  },
  {
   "cell_type": "code",
   "execution_count": 113,
   "id": "d37b4ab4",
   "metadata": {},
   "outputs": [
    {
     "name": "stdout",
     "output_type": "stream",
     "text": [
      "0\n",
      "1\n",
      "2\n",
      "3\n",
      "4\n",
      "5\n",
      "6\n",
      "7\n",
      "8\n",
      "9\n",
      "10\n",
      "The value of x is : 11\n"
     ]
    }
   ],
   "source": [
    "x = 0\n",
    "\n",
    "while x<=10:\n",
    "    print(x)\n",
    "    x=x+1\n",
    "else:\n",
    "    print(\"The value of x is :\",x)"
   ]
  },
  {
   "cell_type": "markdown",
   "id": "31b38ef5",
   "metadata": {},
   "source": [
    "## For Loop"
   ]
  },
  {
   "cell_type": "code",
   "execution_count": 114,
   "id": "db5b2e88",
   "metadata": {},
   "outputs": [],
   "source": [
    "city=['Chennai','Bangalore','Pune','Gurgaon']"
   ]
  },
  {
   "cell_type": "code",
   "execution_count": 115,
   "id": "363df19e",
   "metadata": {},
   "outputs": [
    {
     "name": "stdout",
     "output_type": "stream",
     "text": [
      "Chennai\n",
      "Bangalore\n",
      "Pune\n",
      "Gurgaon\n"
     ]
    }
   ],
   "source": [
    "for x in city:\n",
    "    print(x)"
   ]
  },
  {
   "cell_type": "markdown",
   "id": "042b6b90",
   "metadata": {},
   "source": [
    "# Break and Continue statement"
   ]
  },
  {
   "cell_type": "code",
   "execution_count": 116,
   "id": "ae946723",
   "metadata": {},
   "outputs": [
    {
     "name": "stdout",
     "output_type": "stream",
     "text": [
      "0\n",
      "1\n",
      "2\n",
      "3\n",
      "4\n"
     ]
    }
   ],
   "source": [
    "x = 0\n",
    "\n",
    "while x<=10:\n",
    "    if x==5:\n",
    "        break\n",
    "    print(x)\n",
    "    x=x+1"
   ]
  },
  {
   "cell_type": "code",
   "execution_count": 117,
   "id": "2b4c014b",
   "metadata": {},
   "outputs": [
    {
     "name": "stdout",
     "output_type": "stream",
     "text": [
      "1\n",
      "2\n",
      "3\n",
      "4\n",
      "6\n",
      "7\n",
      "8\n",
      "9\n",
      "10\n",
      "11\n"
     ]
    }
   ],
   "source": [
    "x = 0\n",
    "\n",
    "while x<=10:\n",
    "    x=x+1\n",
    "    if x==5:\n",
    "        continue\n",
    "    print(x)\n",
    "    "
   ]
  },
  {
   "cell_type": "code",
   "execution_count": null,
   "id": "dda2de39",
   "metadata": {},
   "outputs": [],
   "source": []
  }
 ],
 "metadata": {
  "kernelspec": {
   "display_name": "Python 3 (ipykernel)",
   "language": "python",
   "name": "python3"
  },
  "language_info": {
   "codemirror_mode": {
    "name": "ipython",
    "version": 3
   },
   "file_extension": ".py",
   "mimetype": "text/x-python",
   "name": "python",
   "nbconvert_exporter": "python",
   "pygments_lexer": "ipython3",
   "version": "3.8.10"
  }
 },
 "nbformat": 4,
 "nbformat_minor": 5
}
