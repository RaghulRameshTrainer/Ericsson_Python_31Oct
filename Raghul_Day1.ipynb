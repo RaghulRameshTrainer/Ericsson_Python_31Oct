{
 "cells": [
  {
   "cell_type": "code",
   "execution_count": null,
   "id": "734d8fca",
   "metadata": {},
   "outputs": [],
   "source": [
    "# ' \" \"\"\"/''' "
   ]
  },
  {
   "cell_type": "code",
   "execution_count": 1,
   "id": "2b1c7472",
   "metadata": {},
   "outputs": [],
   "source": [
    "# Java compiler code/python is a interpreter language\n",
    "\n",
    "# -> comment "
   ]
  },
  {
   "cell_type": "code",
   "execution_count": 2,
   "id": "7815e029",
   "metadata": {},
   "outputs": [],
   "source": [
    "name='Raghul Ramesh'"
   ]
  },
  {
   "cell_type": "code",
   "execution_count": 3,
   "id": "33c12c46",
   "metadata": {},
   "outputs": [
    {
     "data": {
      "text/plain": [
       "'Raghul Ramesh'"
      ]
     },
     "execution_count": 3,
     "metadata": {},
     "output_type": "execute_result"
    }
   ],
   "source": [
    "name    #shift + enter"
   ]
  },
  {
   "cell_type": "code",
   "execution_count": 5,
   "id": "6a94ff51",
   "metadata": {},
   "outputs": [
    {
     "data": {
      "text/plain": [
       "'Raghul Ramesh'"
      ]
     },
     "execution_count": 5,
     "metadata": {},
     "output_type": "execute_result"
    }
   ],
   "source": [
    "name   #ctrl + enter"
   ]
  },
  {
   "cell_type": "code",
   "execution_count": 6,
   "id": "6807d38c",
   "metadata": {},
   "outputs": [
    {
     "data": {
      "text/plain": [
       "'Raghul Ramesh'"
      ]
     },
     "execution_count": 6,
     "metadata": {},
     "output_type": "execute_result"
    }
   ],
   "source": [
    "name"
   ]
  },
  {
   "cell_type": "code",
   "execution_count": 7,
   "id": "350ae2f2",
   "metadata": {},
   "outputs": [
    {
     "name": "stdout",
     "output_type": "stream",
     "text": [
      "Raghul Ramesh\n"
     ]
    }
   ],
   "source": [
    "print(name)"
   ]
  },
  {
   "cell_type": "code",
   "execution_count": 8,
   "id": "cd3b70ee",
   "metadata": {},
   "outputs": [],
   "source": [
    "name=\"Python technology\""
   ]
  },
  {
   "cell_type": "code",
   "execution_count": 9,
   "id": "562bf64a",
   "metadata": {},
   "outputs": [
    {
     "data": {
      "text/plain": [
       "'Python technology'"
      ]
     },
     "execution_count": 9,
     "metadata": {},
     "output_type": "execute_result"
    }
   ],
   "source": [
    "name"
   ]
  },
  {
   "cell_type": "code",
   "execution_count": 10,
   "id": "70e72fd5",
   "metadata": {},
   "outputs": [
    {
     "name": "stdout",
     "output_type": "stream",
     "text": [
      "Python technology\n"
     ]
    }
   ],
   "source": [
    "print(name)"
   ]
  },
  {
   "cell_type": "code",
   "execution_count": 12,
   "id": "bcb76768",
   "metadata": {},
   "outputs": [],
   "source": [
    "college=\"st's joseph engg college\""
   ]
  },
  {
   "cell_type": "code",
   "execution_count": 13,
   "id": "dd2147ad",
   "metadata": {},
   "outputs": [
    {
     "data": {
      "text/plain": [
       "\"st's joseph engg college\""
      ]
     },
     "execution_count": 13,
     "metadata": {},
     "output_type": "execute_result"
    }
   ],
   "source": [
    "college"
   ]
  },
  {
   "cell_type": "code",
   "execution_count": 14,
   "id": "0b29685d",
   "metadata": {},
   "outputs": [
    {
     "name": "stdout",
     "output_type": "stream",
     "text": [
      "st's joseph engg college\n"
     ]
    }
   ],
   "source": [
    "print(college)"
   ]
  },
  {
   "cell_type": "code",
   "execution_count": 16,
   "id": "5044f8e2",
   "metadata": {},
   "outputs": [],
   "source": [
    "session='learning \"Python\" programmings'"
   ]
  },
  {
   "cell_type": "code",
   "execution_count": 18,
   "id": "24af73bc",
   "metadata": {},
   "outputs": [
    {
     "name": "stdout",
     "output_type": "stream",
     "text": [
      "learning \"Python\" programmings\n"
     ]
    }
   ],
   "source": [
    "print(session)"
   ]
  },
  {
   "cell_type": "code",
   "execution_count": 19,
   "id": "1df89020",
   "metadata": {},
   "outputs": [],
   "source": [
    "training=\"Started \\\"Python\\\" trainings scheduled on '31-10-2022' at 09:30AM\""
   ]
  },
  {
   "cell_type": "code",
   "execution_count": 20,
   "id": "a2b6041d",
   "metadata": {},
   "outputs": [
    {
     "name": "stdout",
     "output_type": "stream",
     "text": [
      "Started \"Python\" trainings scheduled on '31-10-2022' at 09:30AM\n"
     ]
    }
   ],
   "source": [
    "print(training)"
   ]
  },
  {
   "cell_type": "code",
   "execution_count": 21,
   "id": "03645d2c",
   "metadata": {},
   "outputs": [],
   "source": [
    "training='Started \"Python\" trainings scheduled on \\'31-10-2022\\' at 09:30AM'"
   ]
  },
  {
   "cell_type": "code",
   "execution_count": 22,
   "id": "55add822",
   "metadata": {},
   "outputs": [
    {
     "name": "stdout",
     "output_type": "stream",
     "text": [
      "Started \"Python\" trainings scheduled on '31-10-2022' at 09:30AM\n"
     ]
    }
   ],
   "source": [
    "print(training)"
   ]
  },
  {
   "cell_type": "code",
   "execution_count": 23,
   "id": "d1be8b49",
   "metadata": {},
   "outputs": [
    {
     "ename": "SyntaxError",
     "evalue": "EOL while scanning string literal (3671785467.py, line 1)",
     "output_type": "error",
     "traceback": [
      "\u001b[1;36m  Cell \u001b[1;32mIn [23], line 1\u001b[1;36m\u001b[0m\n\u001b[1;33m    about_python=\"Python is a high level, dynamic, procedural and oop language\u001b[0m\n\u001b[1;37m                                                                              ^\u001b[0m\n\u001b[1;31mSyntaxError\u001b[0m\u001b[1;31m:\u001b[0m EOL while scanning string literal\n"
     ]
    }
   ],
   "source": [
    "about_python=\"Python is a high level, dynamic, procedural and oop language\n",
    "it was developed by gudo van rossum\n",
    "it is a complete open source technology\""
   ]
  },
  {
   "cell_type": "code",
   "execution_count": 24,
   "id": "8cf9ce49",
   "metadata": {},
   "outputs": [],
   "source": [
    "about_python=\"\"\"Python is a high level, dynamic, procedural and oop language\n",
    "it was developed by gudo van rossum\n",
    "it is a complete open source technology\"\"\""
   ]
  },
  {
   "cell_type": "code",
   "execution_count": 25,
   "id": "6309aab1",
   "metadata": {},
   "outputs": [
    {
     "name": "stdout",
     "output_type": "stream",
     "text": [
      "Python is a high level, dynamic, procedural and oop language\n",
      "it was developed by gudo van rossum\n",
      "it is a complete open source technology\n"
     ]
    }
   ],
   "source": [
    "print(about_python)"
   ]
  },
  {
   "cell_type": "code",
   "execution_count": 26,
   "id": "51c8f986",
   "metadata": {},
   "outputs": [
    {
     "data": {
      "text/plain": [
       "'Python is a high level, dynamic, procedural and oop language\\nit was developed by gudo van rossum\\nit is a complete open source technology'"
      ]
     },
     "execution_count": 26,
     "metadata": {},
     "output_type": "execute_result"
    }
   ],
   "source": [
    "\"\"\"Python is a high level, dynamic, procedural and oop language\n",
    "it was developed by gudo van rossum\n",
    "it is a complete open source technology\"\"\""
   ]
  },
  {
   "cell_type": "markdown",
   "id": "9e1e0c83",
   "metadata": {},
   "source": [
    "# Operators"
   ]
  },
  {
   "cell_type": "markdown",
   "id": "1ec5c56e",
   "metadata": {},
   "source": [
    "## Operators"
   ]
  },
  {
   "cell_type": "markdown",
   "id": "9d0a72fa",
   "metadata": {},
   "source": [
    "### Operators"
   ]
  },
  {
   "cell_type": "markdown",
   "id": "3dbdd871",
   "metadata": {},
   "source": [
    "#### Operators"
   ]
  },
  {
   "cell_type": "code",
   "execution_count": 27,
   "id": "058382ef",
   "metadata": {},
   "outputs": [],
   "source": [
    "# Arithmetic Operators\n",
    "# Assignment operators\n",
    "# Check operators\n",
    "# binary operatos\n",
    "# membership operatos\n",
    "# identity operatos"
   ]
  },
  {
   "cell_type": "markdown",
   "id": "ea22e494",
   "metadata": {},
   "source": [
    "# Arithmetic Operatos( +, -, *, / , // , % , **)"
   ]
  },
  {
   "cell_type": "code",
   "execution_count": 28,
   "id": "8c93fb12",
   "metadata": {},
   "outputs": [
    {
     "data": {
      "text/plain": [
       "11"
      ]
     },
     "execution_count": 28,
     "metadata": {},
     "output_type": "execute_result"
    }
   ],
   "source": [
    "5+6"
   ]
  },
  {
   "cell_type": "code",
   "execution_count": 29,
   "id": "fac10410",
   "metadata": {},
   "outputs": [
    {
     "data": {
      "text/plain": [
       "-1"
      ]
     },
     "execution_count": 29,
     "metadata": {},
     "output_type": "execute_result"
    }
   ],
   "source": [
    "5-6"
   ]
  },
  {
   "cell_type": "code",
   "execution_count": 30,
   "id": "32912aea",
   "metadata": {},
   "outputs": [
    {
     "data": {
      "text/plain": [
       "30"
      ]
     },
     "execution_count": 30,
     "metadata": {},
     "output_type": "execute_result"
    }
   ],
   "source": [
    "5*6"
   ]
  },
  {
   "cell_type": "code",
   "execution_count": 31,
   "id": "17725e44",
   "metadata": {},
   "outputs": [
    {
     "data": {
      "text/plain": [
       "0.8333333333333334"
      ]
     },
     "execution_count": 31,
     "metadata": {},
     "output_type": "execute_result"
    }
   ],
   "source": [
    "5/6"
   ]
  },
  {
   "cell_type": "code",
   "execution_count": 32,
   "id": "c91e0142",
   "metadata": {},
   "outputs": [
    {
     "data": {
      "text/plain": [
       "2"
      ]
     },
     "execution_count": 32,
     "metadata": {},
     "output_type": "execute_result"
    }
   ],
   "source": [
    "5//2"
   ]
  },
  {
   "cell_type": "code",
   "execution_count": 33,
   "id": "8eebf249",
   "metadata": {},
   "outputs": [
    {
     "data": {
      "text/plain": [
       "1"
      ]
     },
     "execution_count": 33,
     "metadata": {},
     "output_type": "execute_result"
    }
   ],
   "source": [
    "5%2"
   ]
  },
  {
   "cell_type": "code",
   "execution_count": 34,
   "id": "9ce8ef4e",
   "metadata": {},
   "outputs": [
    {
     "data": {
      "text/plain": [
       "125"
      ]
     },
     "execution_count": 34,
     "metadata": {},
     "output_type": "execute_result"
    }
   ],
   "source": [
    "5 ** 3"
   ]
  },
  {
   "cell_type": "markdown",
   "id": "a0098ad6",
   "metadata": {},
   "source": [
    "# Assignment operators"
   ]
  },
  {
   "cell_type": "code",
   "execution_count": 35,
   "id": "5145035f",
   "metadata": {},
   "outputs": [],
   "source": [
    "x=10"
   ]
  },
  {
   "cell_type": "code",
   "execution_count": 36,
   "id": "3ae8f5d5",
   "metadata": {},
   "outputs": [
    {
     "data": {
      "text/plain": [
       "10"
      ]
     },
     "execution_count": 36,
     "metadata": {},
     "output_type": "execute_result"
    }
   ],
   "source": [
    "x"
   ]
  },
  {
   "cell_type": "code",
   "execution_count": 37,
   "id": "3ddd7135",
   "metadata": {},
   "outputs": [],
   "source": [
    "y=x"
   ]
  },
  {
   "cell_type": "code",
   "execution_count": 38,
   "id": "2b85e003",
   "metadata": {},
   "outputs": [
    {
     "data": {
      "text/plain": [
       "10"
      ]
     },
     "execution_count": 38,
     "metadata": {},
     "output_type": "execute_result"
    }
   ],
   "source": [
    "y"
   ]
  },
  {
   "cell_type": "code",
   "execution_count": 39,
   "id": "e97e0b21",
   "metadata": {},
   "outputs": [],
   "source": [
    "z=x+y"
   ]
  },
  {
   "cell_type": "code",
   "execution_count": 40,
   "id": "4b03b324",
   "metadata": {},
   "outputs": [
    {
     "data": {
      "text/plain": [
       "20"
      ]
     },
     "execution_count": 40,
     "metadata": {},
     "output_type": "execute_result"
    }
   ],
   "source": [
    "z"
   ]
  },
  {
   "cell_type": "code",
   "execution_count": 41,
   "id": "1d05ae48",
   "metadata": {},
   "outputs": [],
   "source": [
    "res=x+y+z"
   ]
  },
  {
   "cell_type": "code",
   "execution_count": 42,
   "id": "672f07ec",
   "metadata": {},
   "outputs": [
    {
     "data": {
      "text/plain": [
       "40"
      ]
     },
     "execution_count": 42,
     "metadata": {},
     "output_type": "execute_result"
    }
   ],
   "source": [
    "res"
   ]
  },
  {
   "cell_type": "code",
   "execution_count": 43,
   "id": "fa905496",
   "metadata": {},
   "outputs": [],
   "source": [
    "country=\"India\""
   ]
  },
  {
   "cell_type": "code",
   "execution_count": 44,
   "id": "77f4f7c4",
   "metadata": {},
   "outputs": [
    {
     "data": {
      "text/plain": [
       "'India'"
      ]
     },
     "execution_count": 44,
     "metadata": {},
     "output_type": "execute_result"
    }
   ],
   "source": [
    "country"
   ]
  },
  {
   "cell_type": "markdown",
   "id": "82610458",
   "metadata": {},
   "source": [
    "# Check Operators"
   ]
  },
  {
   "cell_type": "code",
   "execution_count": 45,
   "id": "279892c8",
   "metadata": {},
   "outputs": [
    {
     "data": {
      "text/plain": [
       "10"
      ]
     },
     "execution_count": 45,
     "metadata": {},
     "output_type": "execute_result"
    }
   ],
   "source": [
    "x"
   ]
  },
  {
   "cell_type": "code",
   "execution_count": 46,
   "id": "4b4d9263",
   "metadata": {},
   "outputs": [
    {
     "data": {
      "text/plain": [
       "True"
      ]
     },
     "execution_count": 46,
     "metadata": {},
     "output_type": "execute_result"
    }
   ],
   "source": [
    "x == 10"
   ]
  },
  {
   "cell_type": "code",
   "execution_count": 47,
   "id": "6fa67de6",
   "metadata": {},
   "outputs": [
    {
     "data": {
      "text/plain": [
       "True"
      ]
     },
     "execution_count": 47,
     "metadata": {},
     "output_type": "execute_result"
    }
   ],
   "source": [
    "x > 0"
   ]
  },
  {
   "cell_type": "code",
   "execution_count": 48,
   "id": "ee1cfa65",
   "metadata": {},
   "outputs": [
    {
     "data": {
      "text/plain": [
       "True"
      ]
     },
     "execution_count": 48,
     "metadata": {},
     "output_type": "execute_result"
    }
   ],
   "source": [
    "x < 100"
   ]
  },
  {
   "cell_type": "code",
   "execution_count": 49,
   "id": "9227d8d8",
   "metadata": {},
   "outputs": [
    {
     "data": {
      "text/plain": [
       "False"
      ]
     },
     "execution_count": 49,
     "metadata": {},
     "output_type": "execute_result"
    }
   ],
   "source": [
    "x > 100"
   ]
  },
  {
   "cell_type": "code",
   "execution_count": 50,
   "id": "0b4ee150",
   "metadata": {},
   "outputs": [
    {
     "data": {
      "text/plain": [
       "False"
      ]
     },
     "execution_count": 50,
     "metadata": {},
     "output_type": "execute_result"
    }
   ],
   "source": [
    "x < 0"
   ]
  },
  {
   "cell_type": "code",
   "execution_count": 51,
   "id": "341054ab",
   "metadata": {},
   "outputs": [
    {
     "data": {
      "text/plain": [
       "False"
      ]
     },
     "execution_count": 51,
     "metadata": {},
     "output_type": "execute_result"
    }
   ],
   "source": [
    "x != 10"
   ]
  },
  {
   "cell_type": "code",
   "execution_count": 52,
   "id": "56259cc3",
   "metadata": {},
   "outputs": [],
   "source": [
    "# True False None , class_name => starts with upper case"
   ]
  },
  {
   "cell_type": "markdown",
   "id": "2d0f7d85",
   "metadata": {},
   "source": [
    "# Membership operatos"
   ]
  },
  {
   "cell_type": "code",
   "execution_count": 55,
   "id": "58d8a37f",
   "metadata": {},
   "outputs": [],
   "source": [
    "nums=[1,2,3,4,7,7,5,43,2,100,5,6,78,654,43,3,21,24,4,5,67,7,7,54,3]"
   ]
  },
  {
   "cell_type": "code",
   "execution_count": 56,
   "id": "c576bec0",
   "metadata": {},
   "outputs": [
    {
     "data": {
      "text/plain": [
       "True"
      ]
     },
     "execution_count": 56,
     "metadata": {},
     "output_type": "execute_result"
    }
   ],
   "source": [
    "21 in nums"
   ]
  },
  {
   "cell_type": "code",
   "execution_count": 57,
   "id": "8af4f312",
   "metadata": {},
   "outputs": [
    {
     "data": {
      "text/plain": [
       "True"
      ]
     },
     "execution_count": 57,
     "metadata": {},
     "output_type": "execute_result"
    }
   ],
   "source": [
    "100 in nums"
   ]
  },
  {
   "cell_type": "code",
   "execution_count": 58,
   "id": "b08b3155",
   "metadata": {},
   "outputs": [
    {
     "data": {
      "text/plain": [
       "False"
      ]
     },
     "execution_count": 58,
     "metadata": {},
     "output_type": "execute_result"
    }
   ],
   "source": [
    "99 in nums"
   ]
  },
  {
   "cell_type": "code",
   "execution_count": 59,
   "id": "e02ad31d",
   "metadata": {},
   "outputs": [
    {
     "data": {
      "text/plain": [
       "True"
      ]
     },
     "execution_count": 59,
     "metadata": {},
     "output_type": "execute_result"
    }
   ],
   "source": [
    "99 not in nums"
   ]
  },
  {
   "cell_type": "code",
   "execution_count": 60,
   "id": "e5146133",
   "metadata": {},
   "outputs": [
    {
     "data": {
      "text/plain": [
       "True"
      ]
     },
     "execution_count": 60,
     "metadata": {},
     "output_type": "execute_result"
    }
   ],
   "source": [
    "111 not in nums"
   ]
  },
  {
   "cell_type": "markdown",
   "id": "fb6c6c29",
   "metadata": {},
   "source": [
    "# Identity Operator"
   ]
  },
  {
   "cell_type": "code",
   "execution_count": 62,
   "id": "c9057686",
   "metadata": {},
   "outputs": [
    {
     "data": {
      "text/plain": [
       "10"
      ]
     },
     "execution_count": 62,
     "metadata": {},
     "output_type": "execute_result"
    }
   ],
   "source": [
    "x"
   ]
  },
  {
   "cell_type": "code",
   "execution_count": 63,
   "id": "aba6bec8",
   "metadata": {},
   "outputs": [
    {
     "name": "stderr",
     "output_type": "stream",
     "text": [
      "<>:1: SyntaxWarning: \"is\" with a literal. Did you mean \"==\"?\n",
      "<>:1: SyntaxWarning: \"is\" with a literal. Did you mean \"==\"?\n",
      "C:\\Users\\DELL\\AppData\\Local\\Temp\\ipykernel_23640\\2183931627.py:1: SyntaxWarning: \"is\" with a literal. Did you mean \"==\"?\n",
      "  x is 10\n"
     ]
    },
    {
     "data": {
      "text/plain": [
       "True"
      ]
     },
     "execution_count": 63,
     "metadata": {},
     "output_type": "execute_result"
    }
   ],
   "source": [
    "x is 10"
   ]
  },
  {
   "cell_type": "code",
   "execution_count": 64,
   "id": "da54b1ec",
   "metadata": {},
   "outputs": [
    {
     "name": "stderr",
     "output_type": "stream",
     "text": [
      "<>:1: SyntaxWarning: \"is\" with a literal. Did you mean \"==\"?\n",
      "<>:1: SyntaxWarning: \"is\" with a literal. Did you mean \"==\"?\n",
      "C:\\Users\\DELL\\AppData\\Local\\Temp\\ipykernel_23640\\1069372017.py:1: SyntaxWarning: \"is\" with a literal. Did you mean \"==\"?\n",
      "  x is 100\n"
     ]
    },
    {
     "data": {
      "text/plain": [
       "False"
      ]
     },
     "execution_count": 64,
     "metadata": {},
     "output_type": "execute_result"
    }
   ],
   "source": [
    "x is 100"
   ]
  },
  {
   "cell_type": "code",
   "execution_count": 65,
   "id": "526ea5a7",
   "metadata": {},
   "outputs": [
    {
     "name": "stderr",
     "output_type": "stream",
     "text": [
      "<>:1: SyntaxWarning: \"is not\" with a literal. Did you mean \"!=\"?\n",
      "<>:1: SyntaxWarning: \"is not\" with a literal. Did you mean \"!=\"?\n",
      "C:\\Users\\DELL\\AppData\\Local\\Temp\\ipykernel_23640\\3306646882.py:1: SyntaxWarning: \"is not\" with a literal. Did you mean \"!=\"?\n",
      "  x is not 0\n"
     ]
    },
    {
     "data": {
      "text/plain": [
       "True"
      ]
     },
     "execution_count": 65,
     "metadata": {},
     "output_type": "execute_result"
    }
   ],
   "source": [
    "x is not 0"
   ]
  },
  {
   "cell_type": "markdown",
   "id": "f314e110",
   "metadata": {},
   "source": [
    "# Binary Operators"
   ]
  },
  {
   "cell_type": "code",
   "execution_count": 67,
   "id": "4dc9f34b",
   "metadata": {},
   "outputs": [
    {
     "data": {
      "text/plain": [
       "4"
      ]
     },
     "execution_count": 67,
     "metadata": {},
     "output_type": "execute_result"
    }
   ],
   "source": [
    "5&6"
   ]
  },
  {
   "cell_type": "code",
   "execution_count": 68,
   "id": "74cf5b42",
   "metadata": {},
   "outputs": [
    {
     "data": {
      "text/plain": [
       "7"
      ]
     },
     "execution_count": 68,
     "metadata": {},
     "output_type": "execute_result"
    }
   ],
   "source": [
    "5|6"
   ]
  },
  {
   "cell_type": "code",
   "execution_count": 69,
   "id": "c4d6e2b1",
   "metadata": {},
   "outputs": [
    {
     "data": {
      "text/plain": [
       "3"
      ]
     },
     "execution_count": 69,
     "metadata": {},
     "output_type": "execute_result"
    }
   ],
   "source": [
    "5^6"
   ]
  },
  {
   "cell_type": "code",
   "execution_count": null,
   "id": "6a3e625c",
   "metadata": {},
   "outputs": [],
   "source": []
  }
 ],
 "metadata": {
  "kernelspec": {
   "display_name": "Python 3 (ipykernel)",
   "language": "python",
   "name": "python3"
  },
  "language_info": {
   "codemirror_mode": {
    "name": "ipython",
    "version": 3
   },
   "file_extension": ".py",
   "mimetype": "text/x-python",
   "name": "python",
   "nbconvert_exporter": "python",
   "pygments_lexer": "ipython3",
   "version": "3.8.10"
  }
 },
 "nbformat": 4,
 "nbformat_minor": 5
}
