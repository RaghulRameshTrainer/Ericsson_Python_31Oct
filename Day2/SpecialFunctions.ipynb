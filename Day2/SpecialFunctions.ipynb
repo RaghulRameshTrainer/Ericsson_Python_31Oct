{
 "cells": [
  {
   "cell_type": "code",
   "execution_count": 1,
   "id": "af5a9017",
   "metadata": {},
   "outputs": [
    {
     "data": {
      "text/plain": [
       "'\\nlambda\\nmap\\nfilter\\nreduce\\n'"
      ]
     },
     "execution_count": 1,
     "metadata": {},
     "output_type": "execute_result"
    }
   ],
   "source": [
    "\"\"\"\n",
    "lambda\n",
    "map\n",
    "filter\n",
    "reduce\n",
    "\"\"\""
   ]
  },
  {
   "cell_type": "markdown",
   "id": "2fb696b6",
   "metadata": {},
   "source": [
    "# lambda"
   ]
  },
  {
   "cell_type": "code",
   "execution_count": 2,
   "id": "206d6211",
   "metadata": {},
   "outputs": [
    {
     "data": {
      "text/plain": [
       "110"
      ]
     },
     "execution_count": 2,
     "metadata": {},
     "output_type": "execute_result"
    }
   ],
   "source": [
    "# SYNTAX:  lambda x,y : expr\n",
    "(lambda x,y:x+y)(50,60)"
   ]
  },
  {
   "cell_type": "code",
   "execution_count": 3,
   "id": "e4868550",
   "metadata": {},
   "outputs": [],
   "source": [
    "sn=lambda x,y:x+y"
   ]
  },
  {
   "cell_type": "code",
   "execution_count": 4,
   "id": "3f74ab7a",
   "metadata": {},
   "outputs": [
    {
     "data": {
      "text/plain": [
       "3"
      ]
     },
     "execution_count": 4,
     "metadata": {},
     "output_type": "execute_result"
    }
   ],
   "source": [
    "sn(1,2)"
   ]
  },
  {
   "cell_type": "code",
   "execution_count": 5,
   "id": "d3eff884",
   "metadata": {},
   "outputs": [
    {
     "data": {
      "text/plain": [
       "3000"
      ]
     },
     "execution_count": 5,
     "metadata": {},
     "output_type": "execute_result"
    }
   ],
   "source": [
    "sn(1000,2000)"
   ]
  },
  {
   "cell_type": "code",
   "execution_count": 7,
   "id": "881d79cd",
   "metadata": {},
   "outputs": [
    {
     "data": {
      "text/plain": [
       "121"
      ]
     },
     "execution_count": 7,
     "metadata": {},
     "output_type": "execute_result"
    }
   ],
   "source": [
    "sn(55,66)"
   ]
  },
  {
   "cell_type": "markdown",
   "id": "4320f7f8",
   "metadata": {},
   "source": [
    "# find a big number"
   ]
  },
  {
   "cell_type": "code",
   "execution_count": 11,
   "id": "6ea02bb7",
   "metadata": {},
   "outputs": [],
   "source": [
    "fb=lambda x,y :  x if x>y else y"
   ]
  },
  {
   "cell_type": "code",
   "execution_count": 13,
   "id": "3ddd7ec2",
   "metadata": {},
   "outputs": [
    {
     "data": {
      "text/plain": [
       "20"
      ]
     },
     "execution_count": 13,
     "metadata": {},
     "output_type": "execute_result"
    }
   ],
   "source": [
    "fb(15,20)"
   ]
  },
  {
   "cell_type": "code",
   "execution_count": 14,
   "id": "787b8176",
   "metadata": {},
   "outputs": [
    {
     "data": {
      "text/plain": [
       "100"
      ]
     },
     "execution_count": 14,
     "metadata": {},
     "output_type": "execute_result"
    }
   ],
   "source": [
    "fb(100,50)"
   ]
  },
  {
   "cell_type": "code",
   "execution_count": null,
   "id": "c096f629",
   "metadata": {},
   "outputs": [],
   "source": [
    "# lambda function to find a big number from given 3 individual numbers"
   ]
  },
  {
   "cell_type": "code",
   "execution_count": 15,
   "id": "65e030ee",
   "metadata": {},
   "outputs": [],
   "source": [
    "fm=lambda x,y,z : max([x,y,z])"
   ]
  },
  {
   "cell_type": "code",
   "execution_count": 16,
   "id": "2714b7f1",
   "metadata": {},
   "outputs": [
    {
     "data": {
      "text/plain": [
       "76"
      ]
     },
     "execution_count": 16,
     "metadata": {},
     "output_type": "execute_result"
    }
   ],
   "source": [
    "fm(56,46,76)"
   ]
  },
  {
   "cell_type": "code",
   "execution_count": 17,
   "id": "2d6b4309",
   "metadata": {},
   "outputs": [],
   "source": [
    "fbn=lambda x,y,z : x if x>y and x>z else y if y>x and y>z else z"
   ]
  },
  {
   "cell_type": "code",
   "execution_count": 18,
   "id": "c11a937d",
   "metadata": {},
   "outputs": [
    {
     "data": {
      "text/plain": [
       "42"
      ]
     },
     "execution_count": 18,
     "metadata": {},
     "output_type": "execute_result"
    }
   ],
   "source": [
    "fbn(15,35,42)"
   ]
  },
  {
   "cell_type": "markdown",
   "id": "010f4500",
   "metadata": {},
   "source": [
    "# map"
   ]
  },
  {
   "cell_type": "code",
   "execution_count": 8,
   "id": "71a75b0d",
   "metadata": {},
   "outputs": [
    {
     "data": {
      "text/plain": [
       "[1, 4, 9, 16, 25, 36, 49, 64, 81, 100]"
      ]
     },
     "execution_count": 8,
     "metadata": {},
     "output_type": "execute_result"
    }
   ],
   "source": [
    "#square the numbers\n",
    "nums=list(range(1,11))\n",
    "\n",
    "list(map(lambda x:x**2 , nums))"
   ]
  },
  {
   "cell_type": "code",
   "execution_count": 9,
   "id": "512a6fce",
   "metadata": {},
   "outputs": [
    {
     "data": {
      "text/plain": [
       "[1, 4, 9, 16, 25, 36, 49, 64, 81, 100]"
      ]
     },
     "execution_count": 9,
     "metadata": {},
     "output_type": "execute_result"
    }
   ],
   "source": [
    "list(map(lambda x:x**2 , [1,2,3,4,5,6,7,8,9,10]))"
   ]
  },
  {
   "cell_type": "code",
   "execution_count": 19,
   "id": "57a70533",
   "metadata": {},
   "outputs": [],
   "source": [
    "def circle_area(r):\n",
    "    return 3.14*r**2"
   ]
  },
  {
   "cell_type": "code",
   "execution_count": 20,
   "id": "247bbee5",
   "metadata": {},
   "outputs": [
    {
     "data": {
      "text/plain": [
       "[3.14, 12.56, 28.26, 50.24, 78.5, 113.04, 153.86, 200.96, 254.34, 314.0]"
      ]
     },
     "execution_count": 20,
     "metadata": {},
     "output_type": "execute_result"
    }
   ],
   "source": [
    "list(map(circle_area , [1,2,3,4,5,6,7,8,9,10]))"
   ]
  },
  {
   "cell_type": "markdown",
   "id": "3f2a340b",
   "metadata": {},
   "source": [
    "# filter"
   ]
  },
  {
   "cell_type": "code",
   "execution_count": 10,
   "id": "b25f9e9f",
   "metadata": {},
   "outputs": [
    {
     "data": {
      "text/plain": [
       "[2, 4, 6, 8, 10]"
      ]
     },
     "execution_count": 10,
     "metadata": {},
     "output_type": "execute_result"
    }
   ],
   "source": [
    "list(filter(lambda x:x%2==0, [1,2,3,4,5,6,7,8,9,10]))"
   ]
  },
  {
   "cell_type": "markdown",
   "id": "eb16094a",
   "metadata": {},
   "source": [
    "# reduce"
   ]
  },
  {
   "cell_type": "code",
   "execution_count": 21,
   "id": "56410399",
   "metadata": {},
   "outputs": [],
   "source": [
    "import functools"
   ]
  },
  {
   "cell_type": "code",
   "execution_count": 23,
   "id": "6763c307",
   "metadata": {},
   "outputs": [
    {
     "data": {
      "text/plain": [
       "3628800"
      ]
     },
     "execution_count": 23,
     "metadata": {},
     "output_type": "execute_result"
    }
   ],
   "source": [
    "functools.reduce(lambda x,y : x*y , [1,2,3,4,5,6,7,8,9,10])"
   ]
  },
  {
   "cell_type": "code",
   "execution_count": null,
   "id": "429ae251",
   "metadata": {},
   "outputs": [],
   "source": []
  }
 ],
 "metadata": {
  "kernelspec": {
   "display_name": "Python 3 (ipykernel)",
   "language": "python",
   "name": "python3"
  },
  "language_info": {
   "codemirror_mode": {
    "name": "ipython",
    "version": 3
   },
   "file_extension": ".py",
   "mimetype": "text/x-python",
   "name": "python",
   "nbconvert_exporter": "python",
   "pygments_lexer": "ipython3",
   "version": "3.8.10"
  }
 },
 "nbformat": 4,
 "nbformat_minor": 5
}
