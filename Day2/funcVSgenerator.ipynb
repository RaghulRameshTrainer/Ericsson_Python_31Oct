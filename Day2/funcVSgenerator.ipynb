{
 "cells": [
  {
   "cell_type": "code",
   "execution_count": 4,
   "id": "09ad1aca",
   "metadata": {},
   "outputs": [
    {
     "name": "stdout",
     "output_type": "stream",
     "text": [
      "Memory {Before} :[347.16796875] MB\n",
      "Memory {After} :[77.98046875] MB\n",
      "Time Taken is : 120.45907974243164\n"
     ]
    }
   ],
   "source": [
    "import memory_profiler as mem_profile\n",
    "import random\n",
    "import time\n",
    "\n",
    "name=['Jhon','Dave','Vijay','Aveek','Steve','Thomas','Adam']\n",
    "majors=['engg','medicine','maths','physics','arts','business']\n",
    "\n",
    "print(\"Memory {Before} :\" + str(mem_profile.memory_usage()) + ' MB')\n",
    "def people_fucntion(num_people):\n",
    "    result=[]\n",
    "    for i in range(num_people):\n",
    "        student={\n",
    "            'id':i,\n",
    "            'name':random.choice(name),\n",
    "            'dept':random.choice(majors)\n",
    "        }\n",
    "        result.append(student)\n",
    "    return result\n",
    "\n",
    "def people_generate(num_people):\n",
    "    for i in range(num_people):\n",
    "        student={\n",
    "            'id':i,\n",
    "            'name':random.choice(name),\n",
    "            'dept':random.choice(majors)\n",
    "        }\n",
    "        yield student\n",
    "\n",
    "start=time.time()\n",
    "res=people_generate(1000000)\n",
    "end=time.time()\n",
    "print(\"Memory {After} :\" + str(mem_profile.memory_usage()) + ' MB')\n",
    "print(\"Time Taken is :\", (end-start)*1000)\n"
   ]
  },
  {
   "cell_type": "code",
   "execution_count": 5,
   "id": "48556116",
   "metadata": {},
   "outputs": [
    {
     "name": "stdout",
     "output_type": "stream",
     "text": [
      "Requirement already satisfied: memory_profiler in c:\\users\\dell\\appdata\\local\\programs\\python\\python38\\lib\\site-packages (0.60.0)Note: you may need to restart the kernel to use updated packages.\n"
     ]
    },
    {
     "name": "stderr",
     "output_type": "stream",
     "text": [
      "WARNING: You are using pip version 21.1.1; however, version 22.3 is available.\n",
      "You should consider upgrading via the 'c:\\users\\dell\\appdata\\local\\programs\\python\\python38\\python.exe -m pip install --upgrade pip' command.\n"
     ]
    },
    {
     "name": "stdout",
     "output_type": "stream",
     "text": [
      "\n",
      "Requirement already satisfied: psutil in c:\\users\\dell\\appdata\\local\\programs\\python\\python38\\lib\\site-packages (from memory_profiler) (5.9.3)\n"
     ]
    }
   ],
   "source": [
    "pip install memory_profiler"
   ]
  },
  {
   "cell_type": "code",
   "execution_count": null,
   "id": "a9885685",
   "metadata": {},
   "outputs": [],
   "source": []
  }
 ],
 "metadata": {
  "kernelspec": {
   "display_name": "Python 3 (ipykernel)",
   "language": "python",
   "name": "python3"
  },
  "language_info": {
   "codemirror_mode": {
    "name": "ipython",
    "version": 3
   },
   "file_extension": ".py",
   "mimetype": "text/x-python",
   "name": "python",
   "nbconvert_exporter": "python",
   "pygments_lexer": "ipython3",
   "version": "3.8.10"
  }
 },
 "nbformat": 4,
 "nbformat_minor": 5
}
