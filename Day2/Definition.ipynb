{
 "cells": [
  {
   "cell_type": "code",
   "execution_count": 3,
   "id": "0b5d4e71",
   "metadata": {},
   "outputs": [],
   "source": [
    "def add_nums(x,y):\n",
    "    return x+y"
   ]
  },
  {
   "cell_type": "code",
   "execution_count": 4,
   "id": "0b90fed7",
   "metadata": {},
   "outputs": [
    {
     "data": {
      "text/plain": [
       "30"
      ]
     },
     "execution_count": 4,
     "metadata": {},
     "output_type": "execute_result"
    }
   ],
   "source": [
    "add_nums(10,20)"
   ]
  },
  {
   "cell_type": "code",
   "execution_count": 5,
   "id": "5a8c00c7",
   "metadata": {},
   "outputs": [
    {
     "ename": "TypeError",
     "evalue": "add_nums() missing 1 required positional argument: 'y'",
     "output_type": "error",
     "traceback": [
      "\u001b[1;31m---------------------------------------------------------------------------\u001b[0m",
      "\u001b[1;31mTypeError\u001b[0m                                 Traceback (most recent call last)",
      "Cell \u001b[1;32mIn [5], line 1\u001b[0m\n\u001b[1;32m----> 1\u001b[0m \u001b[43madd_nums\u001b[49m\u001b[43m(\u001b[49m\u001b[38;5;241;43m10\u001b[39;49m\u001b[43m)\u001b[49m\n",
      "\u001b[1;31mTypeError\u001b[0m: add_nums() missing 1 required positional argument: 'y'"
     ]
    }
   ],
   "source": [
    "add_nums(10)"
   ]
  },
  {
   "cell_type": "code",
   "execution_count": 6,
   "id": "0a2cd79f",
   "metadata": {},
   "outputs": [],
   "source": [
    "def add_nums(x,y=0):\n",
    "    return x+y"
   ]
  },
  {
   "cell_type": "code",
   "execution_count": 7,
   "id": "09b60a67",
   "metadata": {},
   "outputs": [
    {
     "data": {
      "text/plain": [
       "30"
      ]
     },
     "execution_count": 7,
     "metadata": {},
     "output_type": "execute_result"
    }
   ],
   "source": [
    "add_nums(10,20)"
   ]
  },
  {
   "cell_type": "code",
   "execution_count": 8,
   "id": "94926298",
   "metadata": {},
   "outputs": [
    {
     "data": {
      "text/plain": [
       "10"
      ]
     },
     "execution_count": 8,
     "metadata": {},
     "output_type": "execute_result"
    }
   ],
   "source": [
    "add_nums(10)"
   ]
  },
  {
   "cell_type": "code",
   "execution_count": 9,
   "id": "08567dec",
   "metadata": {},
   "outputs": [
    {
     "ename": "TypeError",
     "evalue": "add_nums() takes from 1 to 2 positional arguments but 3 were given",
     "output_type": "error",
     "traceback": [
      "\u001b[1;31m---------------------------------------------------------------------------\u001b[0m",
      "\u001b[1;31mTypeError\u001b[0m                                 Traceback (most recent call last)",
      "Cell \u001b[1;32mIn [9], line 1\u001b[0m\n\u001b[1;32m----> 1\u001b[0m \u001b[43madd_nums\u001b[49m\u001b[43m(\u001b[49m\u001b[38;5;241;43m10\u001b[39;49m\u001b[43m,\u001b[49m\u001b[38;5;241;43m20\u001b[39;49m\u001b[43m,\u001b[49m\u001b[38;5;241;43m30\u001b[39;49m\u001b[43m)\u001b[49m\n",
      "\u001b[1;31mTypeError\u001b[0m: add_nums() takes from 1 to 2 positional arguments but 3 were given"
     ]
    }
   ],
   "source": [
    "add_nums(10,20,30)"
   ]
  },
  {
   "cell_type": "code",
   "execution_count": 10,
   "id": "1efb27a8",
   "metadata": {},
   "outputs": [],
   "source": [
    "def add_nums(x,y=0):\n",
    "    \"\"\"add_nums function must be called with 2 digits to get the sum of them\"\"\"\n",
    "    return x+y"
   ]
  },
  {
   "cell_type": "code",
   "execution_count": 11,
   "id": "c9341bb7",
   "metadata": {},
   "outputs": [
    {
     "data": {
      "text/plain": [
       "'add_nums function must be called with 2 digits to get the sum of them'"
      ]
     },
     "execution_count": 11,
     "metadata": {},
     "output_type": "execute_result"
    }
   ],
   "source": [
    "add_nums.__doc__"
   ]
  },
  {
   "cell_type": "code",
   "execution_count": 12,
   "id": "acc995ff",
   "metadata": {},
   "outputs": [
    {
     "data": {
      "text/plain": [
       "300"
      ]
     },
     "execution_count": 12,
     "metadata": {},
     "output_type": "execute_result"
    }
   ],
   "source": [
    "add_nums(100,200)"
   ]
  },
  {
   "cell_type": "markdown",
   "id": "85887991",
   "metadata": {},
   "source": [
    "#  *args"
   ]
  },
  {
   "cell_type": "code",
   "execution_count": 25,
   "id": "e52199ba",
   "metadata": {},
   "outputs": [],
   "source": [
    "def add_nums(x,*y):\n",
    "    print(f\"x is {x}\")\n",
    "    print(f\"y is {y}\")\n",
    "\n",
    "    return x+sum(y)"
   ]
  },
  {
   "cell_type": "code",
   "execution_count": 30,
   "id": "e444f959",
   "metadata": {},
   "outputs": [
    {
     "name": "stdout",
     "output_type": "stream",
     "text": [
      "x is 10\n",
      "y is (20, 30, 40, 50, 60, 70, 90, 100, 1000)\n"
     ]
    },
    {
     "data": {
      "text/plain": [
       "1470"
      ]
     },
     "execution_count": 30,
     "metadata": {},
     "output_type": "execute_result"
    }
   ],
   "source": [
    "add_nums(10,20,30,40,50,60,70,90,100,1000)"
   ]
  },
  {
   "cell_type": "code",
   "execution_count": 31,
   "id": "9ce880c5",
   "metadata": {},
   "outputs": [
    {
     "name": "stdout",
     "output_type": "stream",
     "text": [
      "x is 10\n",
      "y is ()\n"
     ]
    },
    {
     "data": {
      "text/plain": [
       "10"
      ]
     },
     "execution_count": 31,
     "metadata": {},
     "output_type": "execute_result"
    }
   ],
   "source": [
    "add_nums(10)"
   ]
  },
  {
   "cell_type": "code",
   "execution_count": 32,
   "id": "b00eda9c",
   "metadata": {},
   "outputs": [],
   "source": [
    "def add_nums(*x):\n",
    "    return sum(x)"
   ]
  },
  {
   "cell_type": "code",
   "execution_count": 33,
   "id": "b5dfc86b",
   "metadata": {},
   "outputs": [
    {
     "data": {
      "text/plain": [
       "0"
      ]
     },
     "execution_count": 33,
     "metadata": {},
     "output_type": "execute_result"
    }
   ],
   "source": [
    "add_nums()"
   ]
  },
  {
   "cell_type": "code",
   "execution_count": 34,
   "id": "670d7beb",
   "metadata": {},
   "outputs": [
    {
     "data": {
      "text/plain": [
       "10"
      ]
     },
     "execution_count": 34,
     "metadata": {},
     "output_type": "execute_result"
    }
   ],
   "source": [
    "add_nums(10)"
   ]
  },
  {
   "cell_type": "code",
   "execution_count": 35,
   "id": "484188d2",
   "metadata": {},
   "outputs": [
    {
     "data": {
      "text/plain": [
       "30"
      ]
     },
     "execution_count": 35,
     "metadata": {},
     "output_type": "execute_result"
    }
   ],
   "source": [
    "add_nums(10,20)"
   ]
  },
  {
   "cell_type": "code",
   "execution_count": 36,
   "id": "a9b83397",
   "metadata": {},
   "outputs": [
    {
     "data": {
      "text/plain": [
       "60"
      ]
     },
     "execution_count": 36,
     "metadata": {},
     "output_type": "execute_result"
    }
   ],
   "source": [
    "add_nums(10,20,30)"
   ]
  },
  {
   "cell_type": "code",
   "execution_count": 37,
   "id": "c23badd5",
   "metadata": {},
   "outputs": [
    {
     "data": {
      "text/plain": [
       "100"
      ]
     },
     "execution_count": 37,
     "metadata": {},
     "output_type": "execute_result"
    }
   ],
   "source": [
    "add_nums(10,20,30,40)"
   ]
  },
  {
   "cell_type": "markdown",
   "id": "25c7ce54",
   "metadata": {},
   "source": [
    "# **kwargs"
   ]
  },
  {
   "cell_type": "code",
   "execution_count": 38,
   "id": "4431a4db",
   "metadata": {},
   "outputs": [],
   "source": [
    "def emp_info(**x):\n",
    "    print(f\"x is {x}\")\n",
    "    print(type(x))"
   ]
  },
  {
   "cell_type": "code",
   "execution_count": 39,
   "id": "00ee5f4f",
   "metadata": {},
   "outputs": [
    {
     "name": "stdout",
     "output_type": "stream",
     "text": [
      "x is {'fname': 'Raghul', 'lname': 'Ramesh', 'city': 'Chennai', 'exp': 19}\n",
      "<class 'dict'>\n"
     ]
    }
   ],
   "source": [
    "emp_info(fname=\"Raghul\",lname=\"Ramesh\",city=\"Chennai\",exp=19)"
   ]
  },
  {
   "cell_type": "code",
   "execution_count": 40,
   "id": "5f6877bb",
   "metadata": {},
   "outputs": [
    {
     "name": "stdout",
     "output_type": "stream",
     "text": [
      "x is {'fname': 'Durga', 'lname': 'Devi', 'city': 'Bangalore', 'exp': 10, 'salary': 100000, 'tech': 'Python'}\n",
      "<class 'dict'>\n"
     ]
    }
   ],
   "source": [
    "emp_info(fname=\"Durga\",lname=\"Devi\",city=\"Bangalore\",exp=10,salary=100000,tech=\"Python\")"
   ]
  },
  {
   "cell_type": "code",
   "execution_count": 41,
   "id": "254189ae",
   "metadata": {},
   "outputs": [],
   "source": [
    "def emp_info(**x):\n",
    "    for k in x.keys():\n",
    "        print(k + \" ===> \"+str(x[k]))"
   ]
  },
  {
   "cell_type": "code",
   "execution_count": 42,
   "id": "665d382e",
   "metadata": {},
   "outputs": [
    {
     "name": "stdout",
     "output_type": "stream",
     "text": [
      "fname ===> Durga\n",
      "lname ===> Devi\n",
      "city ===> Bangalore\n",
      "exp ===> 10\n",
      "salary ===> 100000\n",
      "tech ===> Python\n"
     ]
    }
   ],
   "source": [
    "emp_info(fname=\"Durga\",lname=\"Devi\",city=\"Bangalore\",exp=10,salary=100000,tech=\"Python\")"
   ]
  },
  {
   "cell_type": "code",
   "execution_count": 43,
   "id": "6d21c589",
   "metadata": {},
   "outputs": [
    {
     "name": "stdout",
     "output_type": "stream",
     "text": [
      "fname ===> Raghul\n",
      "lname ===> Ramesh\n",
      "city ===> Chennai\n",
      "exp ===> 19\n"
     ]
    }
   ],
   "source": [
    "emp_info(fname=\"Raghul\",lname=\"Ramesh\",city=\"Chennai\",exp=19)"
   ]
  },
  {
   "cell_type": "code",
   "execution_count": 56,
   "id": "48dad18d",
   "metadata": {},
   "outputs": [],
   "source": [
    "def emp_info(*x, **y):\n",
    "    print(\"Company name is : \", x[0])\n",
    "    print(\"Office location is :\", x[1])\n",
    "    for k in y.keys():\n",
    "        print(k + \" ===> \"+str(y[k]))"
   ]
  },
  {
   "cell_type": "code",
   "execution_count": 57,
   "id": "34b39e20",
   "metadata": {},
   "outputs": [
    {
     "name": "stdout",
     "output_type": "stream",
     "text": [
      "Company name is :  ERICSSON\n",
      "Office location is : CHENNAI\n",
      "fname ===> Durga\n",
      "lname ===> Devi\n",
      "city ===> Bangalore\n",
      "exp ===> 10\n",
      "salary ===> 100000\n",
      "tech ===> Python\n"
     ]
    }
   ],
   "source": [
    "emp_info(\"ERICSSON\", \"CHENNAI\", fname=\"Durga\",lname=\"Devi\",city=\"Bangalore\",exp=10,salary=100000,tech=\"Python\")"
   ]
  },
  {
   "cell_type": "code",
   "execution_count": null,
   "id": "62e92b04",
   "metadata": {},
   "outputs": [],
   "source": []
  }
 ],
 "metadata": {
  "kernelspec": {
   "display_name": "Python 3 (ipykernel)",
   "language": "python",
   "name": "python3"
  },
  "language_info": {
   "codemirror_mode": {
    "name": "ipython",
    "version": 3
   },
   "file_extension": ".py",
   "mimetype": "text/x-python",
   "name": "python",
   "nbconvert_exporter": "python",
   "pygments_lexer": "ipython3",
   "version": "3.8.10"
  }
 },
 "nbformat": 4,
 "nbformat_minor": 5
}
