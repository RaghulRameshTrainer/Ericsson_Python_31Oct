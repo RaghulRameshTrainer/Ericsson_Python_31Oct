{
 "cells": [
  {
   "cell_type": "code",
   "execution_count": 1,
   "id": "cc9845f8",
   "metadata": {},
   "outputs": [],
   "source": [
    "import datetime"
   ]
  },
  {
   "cell_type": "code",
   "execution_count": 2,
   "id": "8eca89b1",
   "metadata": {},
   "outputs": [
    {
     "data": {
      "text/plain": [
       "['MAXYEAR',\n",
       " 'MINYEAR',\n",
       " '__builtins__',\n",
       " '__cached__',\n",
       " '__doc__',\n",
       " '__file__',\n",
       " '__loader__',\n",
       " '__name__',\n",
       " '__package__',\n",
       " '__spec__',\n",
       " 'date',\n",
       " 'datetime',\n",
       " 'datetime_CAPI',\n",
       " 'sys',\n",
       " 'time',\n",
       " 'timedelta',\n",
       " 'timezone',\n",
       " 'tzinfo']"
      ]
     },
     "execution_count": 2,
     "metadata": {},
     "output_type": "execute_result"
    }
   ],
   "source": [
    "dir(datetime)"
   ]
  },
  {
   "cell_type": "code",
   "execution_count": 3,
   "id": "e503254d",
   "metadata": {},
   "outputs": [],
   "source": [
    "dt=datetime.date(2000,1,31)"
   ]
  },
  {
   "cell_type": "code",
   "execution_count": 4,
   "id": "a5d077bc",
   "metadata": {},
   "outputs": [
    {
     "data": {
      "text/plain": [
       "datetime.date(2000, 1, 31)"
      ]
     },
     "execution_count": 4,
     "metadata": {},
     "output_type": "execute_result"
    }
   ],
   "source": [
    "dt"
   ]
  },
  {
   "cell_type": "code",
   "execution_count": 5,
   "id": "f21c4646",
   "metadata": {},
   "outputs": [
    {
     "data": {
      "text/plain": [
       "2000"
      ]
     },
     "execution_count": 5,
     "metadata": {},
     "output_type": "execute_result"
    }
   ],
   "source": [
    "dt.year"
   ]
  },
  {
   "cell_type": "code",
   "execution_count": 6,
   "id": "a827f25c",
   "metadata": {},
   "outputs": [
    {
     "data": {
      "text/plain": [
       "1"
      ]
     },
     "execution_count": 6,
     "metadata": {},
     "output_type": "execute_result"
    }
   ],
   "source": [
    "dt.month"
   ]
  },
  {
   "cell_type": "code",
   "execution_count": 7,
   "id": "adf3bcd0",
   "metadata": {},
   "outputs": [
    {
     "data": {
      "text/plain": [
       "31"
      ]
     },
     "execution_count": 7,
     "metadata": {},
     "output_type": "execute_result"
    }
   ],
   "source": [
    "dt.day"
   ]
  },
  {
   "cell_type": "code",
   "execution_count": 11,
   "id": "1a12da2a",
   "metadata": {},
   "outputs": [],
   "source": [
    "tday=datetime.date.today()"
   ]
  },
  {
   "cell_type": "code",
   "execution_count": 12,
   "id": "0fe8a725",
   "metadata": {},
   "outputs": [],
   "source": [
    "tdobj=datetime.timedelta(100)"
   ]
  },
  {
   "cell_type": "code",
   "execution_count": 13,
   "id": "b8e4be64",
   "metadata": {},
   "outputs": [
    {
     "data": {
      "text/plain": [
       "datetime.date(2022, 11, 2)"
      ]
     },
     "execution_count": 13,
     "metadata": {},
     "output_type": "execute_result"
    }
   ],
   "source": [
    "tday"
   ]
  },
  {
   "cell_type": "code",
   "execution_count": 14,
   "id": "bee24223",
   "metadata": {},
   "outputs": [
    {
     "data": {
      "text/plain": [
       "datetime.date(2023, 2, 10)"
      ]
     },
     "execution_count": 14,
     "metadata": {},
     "output_type": "execute_result"
    }
   ],
   "source": [
    "tday+tdobj"
   ]
  },
  {
   "cell_type": "code",
   "execution_count": 15,
   "id": "c7dab527",
   "metadata": {},
   "outputs": [
    {
     "data": {
      "text/plain": [
       "datetime.date(2022, 7, 25)"
      ]
     },
     "execution_count": 15,
     "metadata": {},
     "output_type": "execute_result"
    }
   ],
   "source": [
    "tday-tdobj"
   ]
  },
  {
   "cell_type": "code",
   "execution_count": null,
   "id": "2ffc4b83",
   "metadata": {},
   "outputs": [],
   "source": [
    "Directive            Meaning              Example\n",
    "\n",
    "%a     Weekday in abbreviated name        Sun, Mon....Sat\n",
    "%A     Weekday's full name                Sunday, Monday.....Saturday\n",
    "%b     Month Abbreviated name             Jan, Feb......Dec\n",
    "%B     Month's full name                  January, February.....December\n",
    "%d     day of the month                   1,2,3,....31\n",
    "%m     month of the year                  1,2,....12\n",
    "%w    weekday in decimanl num             0,1,2....6\n",
    "%y    year in 2 digit                     22,23,24....\n",
    "%Y    year in 4 digit                     2022, 2023....\n",
    "%H     hour                              00,01,.....23\n",
    "%I    12 hrs format                      00,01....12\n",
    "%p   AM|PM\n",
    "%M   Minutes                            00,01,02....59\n",
    "%S\n",
    "\n"
   ]
  },
  {
   "cell_type": "code",
   "execution_count": 16,
   "id": "2ac70ffb",
   "metadata": {},
   "outputs": [],
   "source": [
    "tday=datetime.datetime.now()"
   ]
  },
  {
   "cell_type": "code",
   "execution_count": 17,
   "id": "ec73ab11",
   "metadata": {},
   "outputs": [
    {
     "data": {
      "text/plain": [
       "datetime.datetime(2022, 11, 2, 12, 55, 27, 235403)"
      ]
     },
     "execution_count": 17,
     "metadata": {},
     "output_type": "execute_result"
    }
   ],
   "source": [
    "tday"
   ]
  },
  {
   "cell_type": "code",
   "execution_count": 19,
   "id": "956eba09",
   "metadata": {},
   "outputs": [
    {
     "data": {
      "text/plain": [
       "'02-11-2022  12:55 PM '"
      ]
     },
     "execution_count": 19,
     "metadata": {},
     "output_type": "execute_result"
    }
   ],
   "source": [
    "tday.strftime(\"%d-%m-%Y  %I:%M %p \")"
   ]
  },
  {
   "cell_type": "code",
   "execution_count": 20,
   "id": "a2a2b83a",
   "metadata": {},
   "outputs": [
    {
     "data": {
      "text/plain": [
       "'Wednesday , 02 November 2022 12:55:27 PM '"
      ]
     },
     "execution_count": 20,
     "metadata": {},
     "output_type": "execute_result"
    }
   ],
   "source": [
    "tday.strftime(\"%A , %d %B %Y %I:%M:%S %p \")"
   ]
  },
  {
   "cell_type": "code",
   "execution_count": 21,
   "id": "e4b2f0c1",
   "metadata": {},
   "outputs": [
    {
     "data": {
      "text/plain": [
       "'11/02/2022'"
      ]
     },
     "execution_count": 21,
     "metadata": {},
     "output_type": "execute_result"
    }
   ],
   "source": [
    "datetime.datetime.now().strftime(\"%m/%d/%Y\")"
   ]
  },
  {
   "cell_type": "code",
   "execution_count": null,
   "id": "5d2bd7e2",
   "metadata": {},
   "outputs": [],
   "source": []
  }
 ],
 "metadata": {
  "kernelspec": {
   "display_name": "Python 3 (ipykernel)",
   "language": "python",
   "name": "python3"
  },
  "language_info": {
   "codemirror_mode": {
    "name": "ipython",
    "version": 3
   },
   "file_extension": ".py",
   "mimetype": "text/x-python",
   "name": "python",
   "nbconvert_exporter": "python",
   "pygments_lexer": "ipython3",
   "version": "3.8.10"
  }
 },
 "nbformat": 4,
 "nbformat_minor": 5
}
