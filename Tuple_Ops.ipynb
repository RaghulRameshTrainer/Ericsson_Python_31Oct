{
 "cells": [
  {
   "cell_type": "code",
   "execution_count": 6,
   "id": "98cf9744",
   "metadata": {},
   "outputs": [],
   "source": [
    "nums=(1,2,3,4,5,5,5)"
   ]
  },
  {
   "cell_type": "code",
   "execution_count": 7,
   "id": "b4c6e45c",
   "metadata": {},
   "outputs": [
    {
     "data": {
      "text/plain": [
       "tuple"
      ]
     },
     "execution_count": 7,
     "metadata": {},
     "output_type": "execute_result"
    }
   ],
   "source": [
    "type(nums)"
   ]
  },
  {
   "cell_type": "code",
   "execution_count": 8,
   "id": "84bc7a94",
   "metadata": {},
   "outputs": [
    {
     "name": "stdout",
     "output_type": "stream",
     "text": [
      "['__add__', '__class__', '__contains__', '__delattr__', '__dir__', '__doc__', '__eq__', '__format__', '__ge__', '__getattribute__', '__getitem__', '__getnewargs__', '__gt__', '__hash__', '__init__', '__init_subclass__', '__iter__', '__le__', '__len__', '__lt__', '__mul__', '__ne__', '__new__', '__reduce__', '__reduce_ex__', '__repr__', '__rmul__', '__setattr__', '__sizeof__', '__str__', '__subclasshook__', 'count', 'index']\n"
     ]
    }
   ],
   "source": [
    "print(dir(nums))"
   ]
  },
  {
   "cell_type": "code",
   "execution_count": 9,
   "id": "c5df3809",
   "metadata": {},
   "outputs": [
    {
     "data": {
      "text/plain": [
       "(1, 2, 3, 4, 5, 5, 5)"
      ]
     },
     "execution_count": 9,
     "metadata": {},
     "output_type": "execute_result"
    }
   ],
   "source": [
    "nums"
   ]
  },
  {
   "cell_type": "code",
   "execution_count": 10,
   "id": "67ca0907",
   "metadata": {},
   "outputs": [
    {
     "data": {
      "text/plain": [
       "3"
      ]
     },
     "execution_count": 10,
     "metadata": {},
     "output_type": "execute_result"
    }
   ],
   "source": [
    "nums.count(5)"
   ]
  },
  {
   "cell_type": "code",
   "execution_count": 12,
   "id": "4c0cc3e6",
   "metadata": {},
   "outputs": [
    {
     "data": {
      "text/plain": [
       "2"
      ]
     },
     "execution_count": 12,
     "metadata": {},
     "output_type": "execute_result"
    }
   ],
   "source": [
    "nums.index(3)"
   ]
  },
  {
   "cell_type": "markdown",
   "id": "71b8fcce",
   "metadata": {},
   "source": [
    "# Difference between list and tuple"
   ]
  },
  {
   "cell_type": "code",
   "execution_count": null,
   "id": "ee01eb6d",
   "metadata": {},
   "outputs": [],
   "source": [
    "List                                                            Tuple\n",
    "1. Mutable                                                      Immutable\n",
    "2. []                                                            ()\n",
    "3. List takes more memory                                       Less memory\n",
    "4. Takes more time to process the data                          Less time"
   ]
  },
  {
   "cell_type": "code",
   "execution_count": 15,
   "id": "3621ec5d",
   "metadata": {},
   "outputs": [
    {
     "name": "stdout",
     "output_type": "stream",
     "text": [
      "LIST TOOK:  136\n",
      "TUPLE TOOK:  120\n"
     ]
    }
   ],
   "source": [
    "import sys\n",
    "\n",
    "lst=[1,2,3,4,5,6,7,8,9,10]\n",
    "tpl=(1,2,3,4,5,6,7,8,9,10)\n",
    "\n",
    "print(\"LIST TOOK: \", sys.getsizeof(lst))\n",
    "print(\"TUPLE TOOK: \", sys.getsizeof(tpl))"
   ]
  },
  {
   "cell_type": "code",
   "execution_count": 16,
   "id": "c19e6507",
   "metadata": {},
   "outputs": [
    {
     "name": "stdout",
     "output_type": "stream",
     "text": [
      "LIST TOOK : 62.867100000005394\n",
      "TUPLE TOOK : 5.434200000024703\n"
     ]
    }
   ],
   "source": [
    "import timeit\n",
    "\n",
    "print(\"LIST TOOK :\", timeit.timeit(stmt=\"[1,2,3,4,5,6,7,8,9,10]\", number=1000000) *1000)\n",
    "print(\"TUPLE TOOK :\", timeit.timeit(stmt=\"(1,2,3,4,5,6,7,8,9,10)\", number=1000000) *1000)"
   ]
  },
  {
   "cell_type": "code",
   "execution_count": 17,
   "id": "8fb4bfb3",
   "metadata": {},
   "outputs": [],
   "source": [
    "working_day=('Monday',\"tuesday\",'Wednesday','Thursday','Friday')"
   ]
  },
  {
   "cell_type": "code",
   "execution_count": 18,
   "id": "140ac679",
   "metadata": {},
   "outputs": [
    {
     "data": {
      "text/plain": [
       "tuple"
      ]
     },
     "execution_count": 18,
     "metadata": {},
     "output_type": "execute_result"
    }
   ],
   "source": [
    "type(working_day)"
   ]
  },
  {
   "cell_type": "code",
   "execution_count": 22,
   "id": "6ef93686",
   "metadata": {},
   "outputs": [],
   "source": [
    "workingday=working_day+('Saturday',)"
   ]
  },
  {
   "cell_type": "code",
   "execution_count": 24,
   "id": "6247c8f9",
   "metadata": {},
   "outputs": [
    {
     "data": {
      "text/plain": [
       "('Monday', 'tuesday', 'Wednesday', 'Thursday', 'Friday', 'Saturday')"
      ]
     },
     "execution_count": 24,
     "metadata": {},
     "output_type": "execute_result"
    }
   ],
   "source": [
    "workingday"
   ]
  },
  {
   "cell_type": "code",
   "execution_count": 25,
   "id": "1949dc49",
   "metadata": {},
   "outputs": [],
   "source": [
    "# ========================================="
   ]
  },
  {
   "cell_type": "code",
   "execution_count": 26,
   "id": "baa283b1",
   "metadata": {},
   "outputs": [],
   "source": [
    "x=[10]"
   ]
  },
  {
   "cell_type": "code",
   "execution_count": 27,
   "id": "0fcb00b6",
   "metadata": {},
   "outputs": [
    {
     "data": {
      "text/plain": [
       "list"
      ]
     },
     "execution_count": 27,
     "metadata": {},
     "output_type": "execute_result"
    }
   ],
   "source": [
    "type(x)"
   ]
  },
  {
   "cell_type": "code",
   "execution_count": 28,
   "id": "71f16306",
   "metadata": {},
   "outputs": [],
   "source": [
    "y=(10)"
   ]
  },
  {
   "cell_type": "code",
   "execution_count": 29,
   "id": "cee77dd1",
   "metadata": {},
   "outputs": [
    {
     "data": {
      "text/plain": [
       "int"
      ]
     },
     "execution_count": 29,
     "metadata": {},
     "output_type": "execute_result"
    }
   ],
   "source": [
    "type(y)"
   ]
  },
  {
   "cell_type": "code",
   "execution_count": 30,
   "id": "af76cbb7",
   "metadata": {},
   "outputs": [],
   "source": [
    "y=(10,)"
   ]
  },
  {
   "cell_type": "code",
   "execution_count": 31,
   "id": "00e091ee",
   "metadata": {},
   "outputs": [
    {
     "data": {
      "text/plain": [
       "tuple"
      ]
     },
     "execution_count": 31,
     "metadata": {},
     "output_type": "execute_result"
    }
   ],
   "source": [
    "type(y)"
   ]
  },
  {
   "cell_type": "code",
   "execution_count": null,
   "id": "d185715a",
   "metadata": {},
   "outputs": [],
   "source": []
  }
 ],
 "metadata": {
  "kernelspec": {
   "display_name": "Python 3 (ipykernel)",
   "language": "python",
   "name": "python3"
  },
  "language_info": {
   "codemirror_mode": {
    "name": "ipython",
    "version": 3
   },
   "file_extension": ".py",
   "mimetype": "text/x-python",
   "name": "python",
   "nbconvert_exporter": "python",
   "pygments_lexer": "ipython3",
   "version": "3.8.10"
  }
 },
 "nbformat": 4,
 "nbformat_minor": 5
}
