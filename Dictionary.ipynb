{
 "cells": [
  {
   "cell_type": "code",
   "execution_count": 4,
   "id": "7d207f8c",
   "metadata": {},
   "outputs": [],
   "source": [
    "info=['Raghul Ramesh','Chennai',18,'Python',5,16.18]"
   ]
  },
  {
   "cell_type": "code",
   "execution_count": 5,
   "id": "98676e15",
   "metadata": {},
   "outputs": [
    {
     "data": {
      "text/plain": [
       "'Raghul Ramesh'"
      ]
     },
     "execution_count": 5,
     "metadata": {},
     "output_type": "execute_result"
    }
   ],
   "source": [
    "info[0]"
   ]
  },
  {
   "cell_type": "code",
   "execution_count": 6,
   "id": "d7780200",
   "metadata": {},
   "outputs": [
    {
     "data": {
      "text/plain": [
       "'Chennai'"
      ]
     },
     "execution_count": 6,
     "metadata": {},
     "output_type": "execute_result"
    }
   ],
   "source": [
    "info[1]"
   ]
  },
  {
   "cell_type": "code",
   "execution_count": 7,
   "id": "03980eb1",
   "metadata": {},
   "outputs": [
    {
     "data": {
      "text/plain": [
       "16.18"
      ]
     },
     "execution_count": 7,
     "metadata": {},
     "output_type": "execute_result"
    }
   ],
   "source": [
    "info[-1]"
   ]
  },
  {
   "cell_type": "markdown",
   "id": "5ebdc9e6",
   "metadata": {},
   "source": [
    "# DICTIONARY"
   ]
  },
  {
   "cell_type": "code",
   "execution_count": 8,
   "id": "513264d0",
   "metadata": {},
   "outputs": [],
   "source": [
    "info={'name':'Raghul Ramesh',\n",
    "     'city':'Chennai',\n",
    "     'exp':18,\n",
    "     'tech':['Python','AIML','BigData','Cloud','DevOps']\n",
    "     }"
   ]
  },
  {
   "cell_type": "code",
   "execution_count": 9,
   "id": "ba36dd7d",
   "metadata": {},
   "outputs": [
    {
     "data": {
      "text/plain": [
       "dict"
      ]
     },
     "execution_count": 9,
     "metadata": {},
     "output_type": "execute_result"
    }
   ],
   "source": [
    "type(info)"
   ]
  },
  {
   "cell_type": "code",
   "execution_count": 10,
   "id": "a011462e",
   "metadata": {},
   "outputs": [
    {
     "data": {
      "text/plain": [
       "'Raghul Ramesh'"
      ]
     },
     "execution_count": 10,
     "metadata": {},
     "output_type": "execute_result"
    }
   ],
   "source": [
    "info['name']"
   ]
  },
  {
   "cell_type": "code",
   "execution_count": 12,
   "id": "182508ea",
   "metadata": {},
   "outputs": [
    {
     "data": {
      "text/plain": [
       "'Chennai'"
      ]
     },
     "execution_count": 12,
     "metadata": {},
     "output_type": "execute_result"
    }
   ],
   "source": [
    "info['city']"
   ]
  },
  {
   "cell_type": "code",
   "execution_count": 13,
   "id": "077f31f1",
   "metadata": {},
   "outputs": [],
   "source": [
    "info['manager']='Levin Lenus'"
   ]
  },
  {
   "cell_type": "code",
   "execution_count": 14,
   "id": "4fb813b1",
   "metadata": {},
   "outputs": [
    {
     "data": {
      "text/plain": [
       "{'name': 'Raghul Ramesh',\n",
       " 'city': 'Chennai',\n",
       " 'exp': 18,\n",
       " 'tech': ['Python', 'AIML', 'BigData', 'Cloud', 'DevOps'],\n",
       " 'manager': 'Levin Lenus'}"
      ]
     },
     "execution_count": 14,
     "metadata": {},
     "output_type": "execute_result"
    }
   ],
   "source": [
    "info"
   ]
  },
  {
   "cell_type": "code",
   "execution_count": 15,
   "id": "0497e38e",
   "metadata": {},
   "outputs": [],
   "source": [
    "info['city']='Bangalore'"
   ]
  },
  {
   "cell_type": "code",
   "execution_count": 16,
   "id": "d589e632",
   "metadata": {},
   "outputs": [
    {
     "data": {
      "text/plain": [
       "{'name': 'Raghul Ramesh',\n",
       " 'city': 'Bangalore',\n",
       " 'exp': 18,\n",
       " 'tech': ['Python', 'AIML', 'BigData', 'Cloud', 'DevOps'],\n",
       " 'manager': 'Levin Lenus'}"
      ]
     },
     "execution_count": 16,
     "metadata": {},
     "output_type": "execute_result"
    }
   ],
   "source": [
    "info"
   ]
  },
  {
   "cell_type": "code",
   "execution_count": 17,
   "id": "d35b5cdc",
   "metadata": {},
   "outputs": [
    {
     "data": {
      "text/plain": [
       "'Levin Lenus'"
      ]
     },
     "execution_count": 17,
     "metadata": {},
     "output_type": "execute_result"
    }
   ],
   "source": [
    "info['manager']"
   ]
  },
  {
   "cell_type": "code",
   "execution_count": 18,
   "id": "1ae5d5f7",
   "metadata": {},
   "outputs": [
    {
     "ename": "KeyError",
     "evalue": "'designation'",
     "output_type": "error",
     "traceback": [
      "\u001b[1;31m---------------------------------------------------------------------------\u001b[0m",
      "\u001b[1;31mKeyError\u001b[0m                                  Traceback (most recent call last)",
      "Cell \u001b[1;32mIn [18], line 1\u001b[0m\n\u001b[1;32m----> 1\u001b[0m \u001b[43minfo\u001b[49m\u001b[43m[\u001b[49m\u001b[38;5;124;43m'\u001b[39;49m\u001b[38;5;124;43mdesignation\u001b[39;49m\u001b[38;5;124;43m'\u001b[39;49m\u001b[43m]\u001b[49m\n",
      "\u001b[1;31mKeyError\u001b[0m: 'designation'"
     ]
    }
   ],
   "source": [
    "info['designation']"
   ]
  },
  {
   "cell_type": "markdown",
   "id": "fff98c77",
   "metadata": {},
   "source": [
    "# get and setdefault"
   ]
  },
  {
   "cell_type": "code",
   "execution_count": 19,
   "id": "ee1040f7",
   "metadata": {},
   "outputs": [
    {
     "data": {
      "text/plain": [
       "'Raghul Ramesh'"
      ]
     },
     "execution_count": 19,
     "metadata": {},
     "output_type": "execute_result"
    }
   ],
   "source": [
    "info.get('name')"
   ]
  },
  {
   "cell_type": "code",
   "execution_count": 20,
   "id": "f542a7ba",
   "metadata": {},
   "outputs": [
    {
     "data": {
      "text/plain": [
       "'Raghul Ramesh'"
      ]
     },
     "execution_count": 20,
     "metadata": {},
     "output_type": "execute_result"
    }
   ],
   "source": [
    "info.get('name','Not exists')"
   ]
  },
  {
   "cell_type": "code",
   "execution_count": 21,
   "id": "0a5d84f9",
   "metadata": {},
   "outputs": [
    {
     "data": {
      "text/plain": [
       "'Not exists'"
      ]
     },
     "execution_count": 21,
     "metadata": {},
     "output_type": "execute_result"
    }
   ],
   "source": [
    "info.get('designation','Not exists')"
   ]
  },
  {
   "cell_type": "code",
   "execution_count": 22,
   "id": "e6b6fca5",
   "metadata": {},
   "outputs": [],
   "source": [
    "info.get('designation')"
   ]
  },
  {
   "cell_type": "code",
   "execution_count": 23,
   "id": "7805114d",
   "metadata": {},
   "outputs": [
    {
     "data": {
      "text/plain": [
       "{'name': 'Raghul Ramesh',\n",
       " 'city': 'Bangalore',\n",
       " 'exp': 18,\n",
       " 'tech': ['Python', 'AIML', 'BigData', 'Cloud', 'DevOps'],\n",
       " 'manager': 'Levin Lenus'}"
      ]
     },
     "execution_count": 23,
     "metadata": {},
     "output_type": "execute_result"
    }
   ],
   "source": [
    "info"
   ]
  },
  {
   "cell_type": "code",
   "execution_count": 24,
   "id": "78c92647",
   "metadata": {},
   "outputs": [
    {
     "data": {
      "text/plain": [
       "'Raghul Ramesh'"
      ]
     },
     "execution_count": 24,
     "metadata": {},
     "output_type": "execute_result"
    }
   ],
   "source": [
    "info.setdefault('name','Architect')"
   ]
  },
  {
   "cell_type": "code",
   "execution_count": 25,
   "id": "3a840d44",
   "metadata": {},
   "outputs": [
    {
     "data": {
      "text/plain": [
       "{'name': 'Raghul Ramesh',\n",
       " 'city': 'Bangalore',\n",
       " 'exp': 18,\n",
       " 'tech': ['Python', 'AIML', 'BigData', 'Cloud', 'DevOps'],\n",
       " 'manager': 'Levin Lenus'}"
      ]
     },
     "execution_count": 25,
     "metadata": {},
     "output_type": "execute_result"
    }
   ],
   "source": [
    "info"
   ]
  },
  {
   "cell_type": "code",
   "execution_count": 26,
   "id": "cf504a57",
   "metadata": {},
   "outputs": [
    {
     "data": {
      "text/plain": [
       "'Architect'"
      ]
     },
     "execution_count": 26,
     "metadata": {},
     "output_type": "execute_result"
    }
   ],
   "source": [
    "info.setdefault('desig','Architect')"
   ]
  },
  {
   "cell_type": "code",
   "execution_count": 27,
   "id": "6afe8077",
   "metadata": {},
   "outputs": [
    {
     "data": {
      "text/plain": [
       "{'name': 'Raghul Ramesh',\n",
       " 'city': 'Bangalore',\n",
       " 'exp': 18,\n",
       " 'tech': ['Python', 'AIML', 'BigData', 'Cloud', 'DevOps'],\n",
       " 'manager': 'Levin Lenus',\n",
       " 'desig': 'Architect'}"
      ]
     },
     "execution_count": 27,
     "metadata": {},
     "output_type": "execute_result"
    }
   ],
   "source": [
    "info"
   ]
  },
  {
   "cell_type": "code",
   "execution_count": 28,
   "id": "a2f6b43b",
   "metadata": {},
   "outputs": [
    {
     "data": {
      "text/plain": [
       "{'name': 'Raghul Ramesh',\n",
       " 'city': 'Bangalore',\n",
       " 'exp': 18,\n",
       " 'tech': ['Python', 'AIML', 'BigData', 'Cloud', 'DevOps'],\n",
       " 'manager': 'Levin Lenus',\n",
       " 'desig': 'Architect'}"
      ]
     },
     "execution_count": 28,
     "metadata": {},
     "output_type": "execute_result"
    }
   ],
   "source": [
    "info"
   ]
  },
  {
   "cell_type": "code",
   "execution_count": 29,
   "id": "9eb28914",
   "metadata": {},
   "outputs": [],
   "source": [
    "info['city']='Chennai'"
   ]
  },
  {
   "cell_type": "code",
   "execution_count": 30,
   "id": "2b5c24bf",
   "metadata": {},
   "outputs": [],
   "source": [
    "info['Salary']=1000000"
   ]
  },
  {
   "cell_type": "code",
   "execution_count": 31,
   "id": "20718745",
   "metadata": {},
   "outputs": [
    {
     "data": {
      "text/plain": [
       "{'name': 'Raghul Ramesh',\n",
       " 'city': 'Chennai',\n",
       " 'exp': 18,\n",
       " 'tech': ['Python', 'AIML', 'BigData', 'Cloud', 'DevOps'],\n",
       " 'manager': 'Levin Lenus',\n",
       " 'desig': 'Architect',\n",
       " 'Salary': 1000000}"
      ]
     },
     "execution_count": 31,
     "metadata": {},
     "output_type": "execute_result"
    }
   ],
   "source": [
    "info"
   ]
  },
  {
   "cell_type": "code",
   "execution_count": 32,
   "id": "eb5fd746",
   "metadata": {},
   "outputs": [],
   "source": [
    "info.update({'city':'pune','country':'india','exp':19,'tech':'Python','role':'trainer'})"
   ]
  },
  {
   "cell_type": "code",
   "execution_count": 33,
   "id": "bcfa38cf",
   "metadata": {},
   "outputs": [
    {
     "data": {
      "text/plain": [
       "{'name': 'Raghul Ramesh',\n",
       " 'city': 'pune',\n",
       " 'exp': 19,\n",
       " 'tech': 'Python',\n",
       " 'manager': 'Levin Lenus',\n",
       " 'desig': 'Architect',\n",
       " 'Salary': 1000000,\n",
       " 'country': 'india',\n",
       " 'role': 'trainer'}"
      ]
     },
     "execution_count": 33,
     "metadata": {},
     "output_type": "execute_result"
    }
   ],
   "source": [
    "info"
   ]
  },
  {
   "cell_type": "markdown",
   "id": "2193db0c",
   "metadata": {},
   "source": [
    "# keys, values, items"
   ]
  },
  {
   "cell_type": "code",
   "execution_count": 34,
   "id": "5d76b021",
   "metadata": {},
   "outputs": [
    {
     "data": {
      "text/plain": [
       "{'name': 'Raghul Ramesh',\n",
       " 'city': 'pune',\n",
       " 'exp': 19,\n",
       " 'tech': 'Python',\n",
       " 'manager': 'Levin Lenus',\n",
       " 'desig': 'Architect',\n",
       " 'Salary': 1000000,\n",
       " 'country': 'india',\n",
       " 'role': 'trainer'}"
      ]
     },
     "execution_count": 34,
     "metadata": {},
     "output_type": "execute_result"
    }
   ],
   "source": [
    "info"
   ]
  },
  {
   "cell_type": "code",
   "execution_count": 35,
   "id": "e548e72e",
   "metadata": {},
   "outputs": [
    {
     "data": {
      "text/plain": [
       "dict_keys(['name', 'city', 'exp', 'tech', 'manager', 'desig', 'Salary', 'country', 'role'])"
      ]
     },
     "execution_count": 35,
     "metadata": {},
     "output_type": "execute_result"
    }
   ],
   "source": [
    "info.keys()"
   ]
  },
  {
   "cell_type": "code",
   "execution_count": 36,
   "id": "37bb91ac",
   "metadata": {},
   "outputs": [
    {
     "data": {
      "text/plain": [
       "dict_values(['Raghul Ramesh', 'pune', 19, 'Python', 'Levin Lenus', 'Architect', 1000000, 'india', 'trainer'])"
      ]
     },
     "execution_count": 36,
     "metadata": {},
     "output_type": "execute_result"
    }
   ],
   "source": [
    "info.values()"
   ]
  },
  {
   "cell_type": "code",
   "execution_count": 37,
   "id": "cb4b7991",
   "metadata": {},
   "outputs": [
    {
     "data": {
      "text/plain": [
       "dict_items([('name', 'Raghul Ramesh'), ('city', 'pune'), ('exp', 19), ('tech', 'Python'), ('manager', 'Levin Lenus'), ('desig', 'Architect'), ('Salary', 1000000), ('country', 'india'), ('role', 'trainer')])"
      ]
     },
     "execution_count": 37,
     "metadata": {},
     "output_type": "execute_result"
    }
   ],
   "source": [
    "info.items()"
   ]
  },
  {
   "cell_type": "code",
   "execution_count": 42,
   "id": "aea792e7",
   "metadata": {},
   "outputs": [
    {
     "name": "stdout",
     "output_type": "stream",
     "text": [
      "name ====> Raghul Ramesh\n",
      "city ====> pune\n",
      "exp ====> 19\n",
      "tech ====> Python\n",
      "manager ====> Levin Lenus\n",
      "desig ====> Architect\n",
      "Salary ====> 1000000\n",
      "country ====> india\n",
      "role ====> trainer\n"
     ]
    }
   ],
   "source": [
    "for k in info.keys():\n",
    "    print(k +\" ====> \" +str(info[k]))"
   ]
  },
  {
   "cell_type": "markdown",
   "id": "e5114bed",
   "metadata": {},
   "source": [
    "# fromkeys"
   ]
  },
  {
   "cell_type": "code",
   "execution_count": 43,
   "id": "d4bc7817",
   "metadata": {},
   "outputs": [],
   "source": [
    "emp_info=['fname','lname','mobole','email','salary','city','exp']"
   ]
  },
  {
   "cell_type": "code",
   "execution_count": 50,
   "id": "cc50d982",
   "metadata": {},
   "outputs": [],
   "source": [
    "emp=dict.fromkeys(emp_info)"
   ]
  },
  {
   "cell_type": "code",
   "execution_count": 51,
   "id": "6812c89f",
   "metadata": {},
   "outputs": [
    {
     "data": {
      "text/plain": [
       "{'fname': None,\n",
       " 'lname': None,\n",
       " 'mobole': None,\n",
       " 'email': None,\n",
       " 'salary': None,\n",
       " 'city': None,\n",
       " 'exp': None}"
      ]
     },
     "execution_count": 51,
     "metadata": {},
     "output_type": "execute_result"
    }
   ],
   "source": [
    "emp"
   ]
  },
  {
   "cell_type": "code",
   "execution_count": null,
   "id": "1f93f811",
   "metadata": {},
   "outputs": [],
   "source": []
  }
 ],
 "metadata": {
  "kernelspec": {
   "display_name": "Python 3 (ipykernel)",
   "language": "python",
   "name": "python3"
  },
  "language_info": {
   "codemirror_mode": {
    "name": "ipython",
    "version": 3
   },
   "file_extension": ".py",
   "mimetype": "text/x-python",
   "name": "python",
   "nbconvert_exporter": "python",
   "pygments_lexer": "ipython3",
   "version": "3.8.10"
  }
 },
 "nbformat": 4,
 "nbformat_minor": 5
}
