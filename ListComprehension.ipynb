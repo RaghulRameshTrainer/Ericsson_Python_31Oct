{
 "cells": [
  {
   "cell_type": "code",
   "execution_count": null,
   "id": "e84dda85",
   "metadata": {},
   "outputs": [],
   "source": [
    "[expr for x in collection/sequence]\n",
    "[expr for x in collection/sequence if cond]\n",
    "[expr for x in collection/sequence if cond1 & cond2]\n",
    "[expr for x in collection/sequence for y in collections2/sequences2]"
   ]
  },
  {
   "cell_type": "code",
   "execution_count": 3,
   "id": "2fe5b2c6",
   "metadata": {},
   "outputs": [
    {
     "name": "stdout",
     "output_type": "stream",
     "text": [
      "1\n",
      "2\n",
      "3\n",
      "4\n",
      "5\n",
      "6\n",
      "7\n",
      "8\n",
      "9\n",
      "10\n"
     ]
    }
   ],
   "source": [
    "for x in range(1,11):\n",
    "    print(x)"
   ]
  },
  {
   "cell_type": "code",
   "execution_count": 4,
   "id": "e86692b1",
   "metadata": {},
   "outputs": [],
   "source": [
    "nums=list(range(1,11))"
   ]
  },
  {
   "cell_type": "code",
   "execution_count": 5,
   "id": "dd7c5a47",
   "metadata": {},
   "outputs": [
    {
     "data": {
      "text/plain": [
       "[1, 2, 3, 4, 5, 6, 7, 8, 9, 10]"
      ]
     },
     "execution_count": 5,
     "metadata": {},
     "output_type": "execute_result"
    }
   ],
   "source": [
    "nums"
   ]
  },
  {
   "cell_type": "code",
   "execution_count": 6,
   "id": "e0403f85",
   "metadata": {},
   "outputs": [
    {
     "data": {
      "text/plain": [
       "[1, 4, 9, 16, 25, 36, 49, 64, 81, 100]"
      ]
     },
     "execution_count": 6,
     "metadata": {},
     "output_type": "execute_result"
    }
   ],
   "source": [
    "[ x**2 for x in nums]"
   ]
  },
  {
   "cell_type": "code",
   "execution_count": 7,
   "id": "8873fb51",
   "metadata": {},
   "outputs": [
    {
     "data": {
      "text/plain": [
       "[1, 9, 25, 49, 81]"
      ]
     },
     "execution_count": 7,
     "metadata": {},
     "output_type": "execute_result"
    }
   ],
   "source": [
    "[ x**2 for x in nums if x%2==1]"
   ]
  },
  {
   "cell_type": "code",
   "execution_count": 8,
   "id": "fc69b12c",
   "metadata": {},
   "outputs": [
    {
     "data": {
      "text/plain": [
       "[25, 49, 81]"
      ]
     },
     "execution_count": 8,
     "metadata": {},
     "output_type": "execute_result"
    }
   ],
   "source": [
    "[ x**2 for x in nums if x%2==1 and x>=5]"
   ]
  },
  {
   "cell_type": "code",
   "execution_count": 9,
   "id": "c829bda0",
   "metadata": {},
   "outputs": [
    {
     "data": {
      "text/plain": [
       "[(1, 6),\n",
       " (1, 7),\n",
       " (1, 8),\n",
       " (1, 9),\n",
       " (1, 10),\n",
       " (2, 6),\n",
       " (2, 7),\n",
       " (2, 8),\n",
       " (2, 9),\n",
       " (2, 10),\n",
       " (3, 6),\n",
       " (3, 7),\n",
       " (3, 8),\n",
       " (3, 9),\n",
       " (3, 10),\n",
       " (4, 6),\n",
       " (4, 7),\n",
       " (4, 8),\n",
       " (4, 9),\n",
       " (4, 10),\n",
       " (5, 6),\n",
       " (5, 7),\n",
       " (5, 8),\n",
       " (5, 9),\n",
       " (5, 10)]"
      ]
     },
     "execution_count": 9,
     "metadata": {},
     "output_type": "execute_result"
    }
   ],
   "source": [
    "list1=[1,2,3,4,5]\n",
    "list2=[6,7,8,9,10]\n",
    "\n",
    "[(x,y) for x in list1 for y in list2]"
   ]
  },
  {
   "cell_type": "code",
   "execution_count": 10,
   "id": "2cc0c01d",
   "metadata": {},
   "outputs": [
    {
     "data": {
      "text/plain": [
       "[7, 9, 11, 13, 15]"
      ]
     },
     "execution_count": 10,
     "metadata": {},
     "output_type": "execute_result"
    }
   ],
   "source": [
    "[ x+y for x,y in zip(list1,list2) ]"
   ]
  },
  {
   "cell_type": "code",
   "execution_count": 11,
   "id": "186c3852",
   "metadata": {},
   "outputs": [
    {
     "data": {
      "text/plain": [
       "[28.26, 78.5, 153.86, 314.0, 706.5]"
      ]
     },
     "execution_count": 11,
     "metadata": {},
     "output_type": "execute_result"
    }
   ],
   "source": [
    "# Calculate circles ares\n",
    "\n",
    "radius=[3,5,7,10,15]\n",
    "\n",
    "[ 3.14*r**2 for r in radius]"
   ]
  },
  {
   "cell_type": "code",
   "execution_count": null,
   "id": "5fc227a2",
   "metadata": {},
   "outputs": [],
   "source": []
  }
 ],
 "metadata": {
  "kernelspec": {
   "display_name": "Python 3 (ipykernel)",
   "language": "python",
   "name": "python3"
  },
  "language_info": {
   "codemirror_mode": {
    "name": "ipython",
    "version": 3
   },
   "file_extension": ".py",
   "mimetype": "text/x-python",
   "name": "python",
   "nbconvert_exporter": "python",
   "pygments_lexer": "ipython3",
   "version": "3.8.10"
  }
 },
 "nbformat": 4,
 "nbformat_minor": 5
}
