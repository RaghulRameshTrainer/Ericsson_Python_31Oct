{
 "cells": [
  {
   "cell_type": "markdown",
   "id": "0069547b",
   "metadata": {},
   "source": [
    "# STRING"
   ]
  },
  {
   "cell_type": "code",
   "execution_count": 3,
   "id": "3ef0a83d",
   "metadata": {},
   "outputs": [],
   "source": [
    "name=\"Raghul Ramesh\""
   ]
  },
  {
   "cell_type": "code",
   "execution_count": 4,
   "id": "f2bb7701",
   "metadata": {},
   "outputs": [
    {
     "data": {
      "text/plain": [
       "str"
      ]
     },
     "execution_count": 4,
     "metadata": {},
     "output_type": "execute_result"
    }
   ],
   "source": [
    "type(name)"
   ]
  },
  {
   "cell_type": "code",
   "execution_count": 5,
   "id": "ea846e2f",
   "metadata": {},
   "outputs": [
    {
     "data": {
      "text/plain": [
       "13"
      ]
     },
     "execution_count": 5,
     "metadata": {},
     "output_type": "execute_result"
    }
   ],
   "source": [
    "len(name)"
   ]
  },
  {
   "cell_type": "code",
   "execution_count": 6,
   "id": "2f6ae75b",
   "metadata": {},
   "outputs": [
    {
     "data": {
      "text/plain": [
       "True"
      ]
     },
     "execution_count": 6,
     "metadata": {},
     "output_type": "execute_result"
    }
   ],
   "source": [
    "'g' in name"
   ]
  },
  {
   "cell_type": "code",
   "execution_count": 7,
   "id": "91f0b4c9",
   "metadata": {},
   "outputs": [
    {
     "data": {
      "text/plain": [
       "True"
      ]
     },
     "execution_count": 7,
     "metadata": {},
     "output_type": "execute_result"
    }
   ],
   "source": [
    "' ' in name"
   ]
  },
  {
   "cell_type": "code",
   "execution_count": 8,
   "id": "f50c13fd",
   "metadata": {},
   "outputs": [
    {
     "data": {
      "text/plain": [
       "False"
      ]
     },
     "execution_count": 8,
     "metadata": {},
     "output_type": "execute_result"
    }
   ],
   "source": [
    "'z' in name"
   ]
  },
  {
   "cell_type": "code",
   "execution_count": 9,
   "id": "12fca9bb",
   "metadata": {},
   "outputs": [
    {
     "data": {
      "text/plain": [
       "'Raghul Ramesh'"
      ]
     },
     "execution_count": 9,
     "metadata": {},
     "output_type": "execute_result"
    }
   ],
   "source": [
    "name"
   ]
  },
  {
   "cell_type": "code",
   "execution_count": 10,
   "id": "37de453c",
   "metadata": {},
   "outputs": [
    {
     "data": {
      "text/plain": [
       "'R'"
      ]
     },
     "execution_count": 10,
     "metadata": {},
     "output_type": "execute_result"
    }
   ],
   "source": [
    "name[0]"
   ]
  },
  {
   "cell_type": "code",
   "execution_count": 11,
   "id": "64245545",
   "metadata": {},
   "outputs": [
    {
     "data": {
      "text/plain": [
       "'a'"
      ]
     },
     "execution_count": 11,
     "metadata": {},
     "output_type": "execute_result"
    }
   ],
   "source": [
    "name[1]"
   ]
  },
  {
   "cell_type": "code",
   "execution_count": 12,
   "id": "6afa5088",
   "metadata": {},
   "outputs": [
    {
     "data": {
      "text/plain": [
       "'g'"
      ]
     },
     "execution_count": 12,
     "metadata": {},
     "output_type": "execute_result"
    }
   ],
   "source": [
    "name[2]"
   ]
  },
  {
   "cell_type": "code",
   "execution_count": 13,
   "id": "bfe6e4b2",
   "metadata": {},
   "outputs": [
    {
     "data": {
      "text/plain": [
       "'h'"
      ]
     },
     "execution_count": 13,
     "metadata": {},
     "output_type": "execute_result"
    }
   ],
   "source": [
    "name[12]"
   ]
  },
  {
   "cell_type": "code",
   "execution_count": 14,
   "id": "a93b8786",
   "metadata": {},
   "outputs": [
    {
     "data": {
      "text/plain": [
       "'l'"
      ]
     },
     "execution_count": 14,
     "metadata": {},
     "output_type": "execute_result"
    }
   ],
   "source": [
    "name[5]"
   ]
  },
  {
   "cell_type": "code",
   "execution_count": 15,
   "id": "a50fb66c",
   "metadata": {},
   "outputs": [
    {
     "data": {
      "text/plain": [
       "'Raghu'"
      ]
     },
     "execution_count": 15,
     "metadata": {},
     "output_type": "execute_result"
    }
   ],
   "source": [
    "name[0:5]"
   ]
  },
  {
   "cell_type": "code",
   "execution_count": 16,
   "id": "511c382e",
   "metadata": {},
   "outputs": [
    {
     "data": {
      "text/plain": [
       "'Raghul'"
      ]
     },
     "execution_count": 16,
     "metadata": {},
     "output_type": "execute_result"
    }
   ],
   "source": [
    "name[0:6]"
   ]
  },
  {
   "cell_type": "code",
   "execution_count": 17,
   "id": "55f8bc3c",
   "metadata": {},
   "outputs": [
    {
     "data": {
      "text/plain": [
       "'Raghul Ramesh'"
      ]
     },
     "execution_count": 17,
     "metadata": {},
     "output_type": "execute_result"
    }
   ],
   "source": [
    "name"
   ]
  },
  {
   "cell_type": "code",
   "execution_count": 19,
   "id": "483b0d25",
   "metadata": {},
   "outputs": [
    {
     "data": {
      "text/plain": [
       "'Ramesh'"
      ]
     },
     "execution_count": 19,
     "metadata": {},
     "output_type": "execute_result"
    }
   ],
   "source": [
    "name[7:13]"
   ]
  },
  {
   "cell_type": "code",
   "execution_count": 20,
   "id": "cdb0d43c",
   "metadata": {},
   "outputs": [
    {
     "data": {
      "text/plain": [
       "'Raghul'"
      ]
     },
     "execution_count": 20,
     "metadata": {},
     "output_type": "execute_result"
    }
   ],
   "source": [
    "name[:6]"
   ]
  },
  {
   "cell_type": "code",
   "execution_count": 21,
   "id": "9d79d94e",
   "metadata": {},
   "outputs": [
    {
     "data": {
      "text/plain": [
       "'Ramesh'"
      ]
     },
     "execution_count": 21,
     "metadata": {},
     "output_type": "execute_result"
    }
   ],
   "source": [
    "name[7:]"
   ]
  },
  {
   "cell_type": "code",
   "execution_count": 22,
   "id": "47461a17",
   "metadata": {},
   "outputs": [
    {
     "data": {
      "text/plain": [
       "'R'"
      ]
     },
     "execution_count": 22,
     "metadata": {},
     "output_type": "execute_result"
    }
   ],
   "source": [
    "name[0]"
   ]
  },
  {
   "cell_type": "code",
   "execution_count": 23,
   "id": "fcb30bc7",
   "metadata": {},
   "outputs": [
    {
     "data": {
      "text/plain": [
       "'h'"
      ]
     },
     "execution_count": 23,
     "metadata": {},
     "output_type": "execute_result"
    }
   ],
   "source": [
    "name[-1]"
   ]
  },
  {
   "cell_type": "code",
   "execution_count": 24,
   "id": "b99b4343",
   "metadata": {},
   "outputs": [
    {
     "data": {
      "text/plain": [
       "'s'"
      ]
     },
     "execution_count": 24,
     "metadata": {},
     "output_type": "execute_result"
    }
   ],
   "source": [
    "name[-2]"
   ]
  },
  {
   "cell_type": "code",
   "execution_count": 25,
   "id": "5fbe43fb",
   "metadata": {},
   "outputs": [
    {
     "data": {
      "text/plain": [
       "'Raghul Ramesh'"
      ]
     },
     "execution_count": 25,
     "metadata": {},
     "output_type": "execute_result"
    }
   ],
   "source": [
    "name"
   ]
  },
  {
   "cell_type": "code",
   "execution_count": 26,
   "id": "c7880ef8",
   "metadata": {},
   "outputs": [
    {
     "data": {
      "text/plain": [
       "'Ram'"
      ]
     },
     "execution_count": 26,
     "metadata": {},
     "output_type": "execute_result"
    }
   ],
   "source": [
    "name[-6:-3]"
   ]
  },
  {
   "cell_type": "code",
   "execution_count": 27,
   "id": "585b60c8",
   "metadata": {},
   "outputs": [
    {
     "data": {
      "text/plain": [
       "'Raghul Ramesh'"
      ]
     },
     "execution_count": 27,
     "metadata": {},
     "output_type": "execute_result"
    }
   ],
   "source": [
    "name[:]"
   ]
  },
  {
   "cell_type": "code",
   "execution_count": 29,
   "id": "118c28de",
   "metadata": {},
   "outputs": [
    {
     "data": {
      "text/plain": [
       "'Rgu aeh'"
      ]
     },
     "execution_count": 29,
     "metadata": {},
     "output_type": "execute_result"
    }
   ],
   "source": [
    "name[::2]"
   ]
  },
  {
   "cell_type": "code",
   "execution_count": 30,
   "id": "1a016b3c",
   "metadata": {},
   "outputs": [
    {
     "data": {
      "text/plain": [
       "'Rh mh'"
      ]
     },
     "execution_count": 30,
     "metadata": {},
     "output_type": "execute_result"
    }
   ],
   "source": [
    "name[::3]"
   ]
  },
  {
   "cell_type": "code",
   "execution_count": 31,
   "id": "bb9ff37b",
   "metadata": {},
   "outputs": [
    {
     "data": {
      "text/plain": [
       "'Raghul Ramesh'"
      ]
     },
     "execution_count": 31,
     "metadata": {},
     "output_type": "execute_result"
    }
   ],
   "source": [
    "name[::1]"
   ]
  },
  {
   "cell_type": "code",
   "execution_count": 33,
   "id": "dbf75b30",
   "metadata": {},
   "outputs": [
    {
     "data": {
      "text/plain": [
       "'hsemaR luhgaR'"
      ]
     },
     "execution_count": 33,
     "metadata": {},
     "output_type": "execute_result"
    }
   ],
   "source": [
    "name[::-1]"
   ]
  },
  {
   "cell_type": "code",
   "execution_count": 34,
   "id": "a4f678bf",
   "metadata": {},
   "outputs": [
    {
     "data": {
      "text/plain": [
       "'Raghul Ramesh'"
      ]
     },
     "execution_count": 34,
     "metadata": {},
     "output_type": "execute_result"
    }
   ],
   "source": [
    "name"
   ]
  },
  {
   "cell_type": "code",
   "execution_count": 35,
   "id": "36409626",
   "metadata": {},
   "outputs": [
    {
     "name": "stdout",
     "output_type": "stream",
     "text": [
      "['__add__', '__class__', '__contains__', '__delattr__', '__dir__', '__doc__', '__eq__', '__format__', '__ge__', '__getattribute__', '__getitem__', '__getnewargs__', '__gt__', '__hash__', '__init__', '__init_subclass__', '__iter__', '__le__', '__len__', '__lt__', '__mod__', '__mul__', '__ne__', '__new__', '__reduce__', '__reduce_ex__', '__repr__', '__rmod__', '__rmul__', '__setattr__', '__sizeof__', '__str__', '__subclasshook__', 'capitalize', 'casefold', 'center', 'count', 'encode', 'endswith', 'expandtabs', 'find', 'format', 'format_map', 'index', 'isalnum', 'isalpha', 'isascii', 'isdecimal', 'isdigit', 'isidentifier', 'islower', 'isnumeric', 'isprintable', 'isspace', 'istitle', 'isupper', 'join', 'ljust', 'lower', 'lstrip', 'maketrans', 'partition', 'replace', 'rfind', 'rindex', 'rjust', 'rpartition', 'rsplit', 'rstrip', 'split', 'splitlines', 'startswith', 'strip', 'swapcase', 'title', 'translate', 'upper', 'zfill']\n"
     ]
    }
   ],
   "source": [
    "print(dir(name))"
   ]
  },
  {
   "cell_type": "code",
   "execution_count": 36,
   "id": "d9096223",
   "metadata": {},
   "outputs": [
    {
     "data": {
      "text/plain": [
       "'Raghul Ramesh'"
      ]
     },
     "execution_count": 36,
     "metadata": {},
     "output_type": "execute_result"
    }
   ],
   "source": [
    "name"
   ]
  },
  {
   "cell_type": "code",
   "execution_count": 37,
   "id": "ad0c2113",
   "metadata": {},
   "outputs": [
    {
     "data": {
      "text/plain": [
       "'RAGHUL RAMESH'"
      ]
     },
     "execution_count": 37,
     "metadata": {},
     "output_type": "execute_result"
    }
   ],
   "source": [
    "name.upper()"
   ]
  },
  {
   "cell_type": "code",
   "execution_count": 38,
   "id": "891ae57f",
   "metadata": {},
   "outputs": [
    {
     "data": {
      "text/plain": [
       "'Raghul Ramesh'"
      ]
     },
     "execution_count": 38,
     "metadata": {},
     "output_type": "execute_result"
    }
   ],
   "source": [
    "name"
   ]
  },
  {
   "cell_type": "code",
   "execution_count": 39,
   "id": "61f3de8a",
   "metadata": {},
   "outputs": [
    {
     "data": {
      "text/plain": [
       "'raghul ramesh'"
      ]
     },
     "execution_count": 39,
     "metadata": {},
     "output_type": "execute_result"
    }
   ],
   "source": [
    "name.lower()"
   ]
  },
  {
   "cell_type": "code",
   "execution_count": 40,
   "id": "20512823",
   "metadata": {},
   "outputs": [
    {
     "data": {
      "text/plain": [
       "'Raghul Ramesh'"
      ]
     },
     "execution_count": 40,
     "metadata": {},
     "output_type": "execute_result"
    }
   ],
   "source": [
    "name"
   ]
  },
  {
   "cell_type": "code",
   "execution_count": 41,
   "id": "7b3bdadb",
   "metadata": {},
   "outputs": [
    {
     "data": {
      "text/plain": [
       "'raghul ramesh'"
      ]
     },
     "execution_count": 41,
     "metadata": {},
     "output_type": "execute_result"
    }
   ],
   "source": [
    "name.casefold()"
   ]
  },
  {
   "cell_type": "code",
   "execution_count": 42,
   "id": "da4538ba",
   "metadata": {},
   "outputs": [],
   "source": [
    "name='raghul ramesh'"
   ]
  },
  {
   "cell_type": "code",
   "execution_count": 43,
   "id": "6a87e769",
   "metadata": {},
   "outputs": [
    {
     "data": {
      "text/plain": [
       "'raghul ramesh'"
      ]
     },
     "execution_count": 43,
     "metadata": {},
     "output_type": "execute_result"
    }
   ],
   "source": [
    "name"
   ]
  },
  {
   "cell_type": "code",
   "execution_count": 44,
   "id": "70a95dcc",
   "metadata": {},
   "outputs": [
    {
     "data": {
      "text/plain": [
       "'Raghul Ramesh'"
      ]
     },
     "execution_count": 44,
     "metadata": {},
     "output_type": "execute_result"
    }
   ],
   "source": [
    "name.title()"
   ]
  },
  {
   "cell_type": "code",
   "execution_count": 45,
   "id": "6d58546b",
   "metadata": {},
   "outputs": [
    {
     "data": {
      "text/plain": [
       "'Raghul ramesh'"
      ]
     },
     "execution_count": 45,
     "metadata": {},
     "output_type": "execute_result"
    }
   ],
   "source": [
    "name.capitalize()"
   ]
  },
  {
   "cell_type": "code",
   "execution_count": 46,
   "id": "b6d3358c",
   "metadata": {},
   "outputs": [],
   "source": [
    "name='Raghul Ramesh'"
   ]
  },
  {
   "cell_type": "code",
   "execution_count": 47,
   "id": "035ce8bd",
   "metadata": {},
   "outputs": [
    {
     "data": {
      "text/plain": [
       "'Raghul Ramesh'"
      ]
     },
     "execution_count": 47,
     "metadata": {},
     "output_type": "execute_result"
    }
   ],
   "source": [
    "name"
   ]
  },
  {
   "cell_type": "code",
   "execution_count": 48,
   "id": "7823ef13",
   "metadata": {},
   "outputs": [
    {
     "data": {
      "text/plain": [
       "'rAGHUL rAMESH'"
      ]
     },
     "execution_count": 48,
     "metadata": {},
     "output_type": "execute_result"
    }
   ],
   "source": [
    "name.swapcase()"
   ]
  },
  {
   "cell_type": "code",
   "execution_count": 49,
   "id": "ff599f17",
   "metadata": {},
   "outputs": [
    {
     "data": {
      "text/plain": [
       "'Raghul Ramesh'"
      ]
     },
     "execution_count": 49,
     "metadata": {},
     "output_type": "execute_result"
    }
   ],
   "source": [
    "name"
   ]
  },
  {
   "cell_type": "code",
   "execution_count": 50,
   "id": "15d0b720",
   "metadata": {},
   "outputs": [],
   "source": [
    "# =================================="
   ]
  },
  {
   "cell_type": "code",
   "execution_count": 52,
   "id": "9159bb06",
   "metadata": {},
   "outputs": [
    {
     "data": {
      "text/plain": [
       "True"
      ]
     },
     "execution_count": 52,
     "metadata": {},
     "output_type": "execute_result"
    }
   ],
   "source": [
    "name.istitle()"
   ]
  },
  {
   "cell_type": "code",
   "execution_count": 53,
   "id": "d30d5d64",
   "metadata": {},
   "outputs": [
    {
     "data": {
      "text/plain": [
       "False"
      ]
     },
     "execution_count": 53,
     "metadata": {},
     "output_type": "execute_result"
    }
   ],
   "source": [
    "name.isupper()"
   ]
  },
  {
   "cell_type": "code",
   "execution_count": 54,
   "id": "d7c934f8",
   "metadata": {},
   "outputs": [
    {
     "data": {
      "text/plain": [
       "False"
      ]
     },
     "execution_count": 54,
     "metadata": {},
     "output_type": "execute_result"
    }
   ],
   "source": [
    "name.islower()"
   ]
  },
  {
   "cell_type": "code",
   "execution_count": 55,
   "id": "4d58bab5",
   "metadata": {},
   "outputs": [
    {
     "data": {
      "text/plain": [
       "False"
      ]
     },
     "execution_count": 55,
     "metadata": {},
     "output_type": "execute_result"
    }
   ],
   "source": [
    "name.isalpha()"
   ]
  },
  {
   "cell_type": "code",
   "execution_count": 56,
   "id": "f4caf704",
   "metadata": {},
   "outputs": [],
   "source": [
    "city=\"Chennai\""
   ]
  },
  {
   "cell_type": "code",
   "execution_count": 57,
   "id": "9e1d5565",
   "metadata": {},
   "outputs": [
    {
     "data": {
      "text/plain": [
       "True"
      ]
     },
     "execution_count": 57,
     "metadata": {},
     "output_type": "execute_result"
    }
   ],
   "source": [
    "city.isalpha()"
   ]
  },
  {
   "cell_type": "code",
   "execution_count": 58,
   "id": "120a42dd",
   "metadata": {},
   "outputs": [],
   "source": [
    "emp=\"sc156531\""
   ]
  },
  {
   "cell_type": "code",
   "execution_count": 59,
   "id": "b5ba6b7b",
   "metadata": {},
   "outputs": [
    {
     "data": {
      "text/plain": [
       "True"
      ]
     },
     "execution_count": 59,
     "metadata": {},
     "output_type": "execute_result"
    }
   ],
   "source": [
    "emp.isalnum()"
   ]
  },
  {
   "cell_type": "code",
   "execution_count": 63,
   "id": "8909a80c",
   "metadata": {},
   "outputs": [],
   "source": [
    "age=\"50\""
   ]
  },
  {
   "cell_type": "code",
   "execution_count": 65,
   "id": "995e9955",
   "metadata": {},
   "outputs": [
    {
     "data": {
      "text/plain": [
       "True"
      ]
     },
     "execution_count": 65,
     "metadata": {},
     "output_type": "execute_result"
    }
   ],
   "source": [
    "age.isdigit()"
   ]
  },
  {
   "cell_type": "code",
   "execution_count": 66,
   "id": "961c7eea",
   "metadata": {},
   "outputs": [],
   "source": [
    "test=' '"
   ]
  },
  {
   "cell_type": "code",
   "execution_count": 67,
   "id": "b75517b2",
   "metadata": {},
   "outputs": [
    {
     "data": {
      "text/plain": [
       "True"
      ]
     },
     "execution_count": 67,
     "metadata": {},
     "output_type": "execute_result"
    }
   ],
   "source": [
    "test.isspace()"
   ]
  },
  {
   "cell_type": "code",
   "execution_count": 68,
   "id": "d263a4af",
   "metadata": {},
   "outputs": [],
   "source": [
    "# ====================================="
   ]
  },
  {
   "cell_type": "markdown",
   "id": "ae367703",
   "metadata": {},
   "source": [
    "# center , ljust, rjust, zfill"
   ]
  },
  {
   "cell_type": "code",
   "execution_count": 70,
   "id": "97f1c401",
   "metadata": {},
   "outputs": [],
   "source": [
    "name=\"Raghul Ramesh\""
   ]
  },
  {
   "cell_type": "code",
   "execution_count": 73,
   "id": "870cdb5e",
   "metadata": {},
   "outputs": [
    {
     "data": {
      "text/plain": [
       "'                  Raghul Ramesh                   '"
      ]
     },
     "execution_count": 73,
     "metadata": {},
     "output_type": "execute_result"
    }
   ],
   "source": [
    "name.center(50)"
   ]
  },
  {
   "cell_type": "code",
   "execution_count": 74,
   "id": "5699a009",
   "metadata": {},
   "outputs": [
    {
     "data": {
      "text/plain": [
       "'__________________Raghul Ramesh___________________'"
      ]
     },
     "execution_count": 74,
     "metadata": {},
     "output_type": "execute_result"
    }
   ],
   "source": [
    "name.center(50,'_')"
   ]
  },
  {
   "cell_type": "code",
   "execution_count": 75,
   "id": "bbe5df68",
   "metadata": {},
   "outputs": [
    {
     "data": {
      "text/plain": [
       "'------------------Raghul Ramesh-------------------'"
      ]
     },
     "execution_count": 75,
     "metadata": {},
     "output_type": "execute_result"
    }
   ],
   "source": [
    "name.center(50,'-')"
   ]
  },
  {
   "cell_type": "code",
   "execution_count": 76,
   "id": "c8776c01",
   "metadata": {},
   "outputs": [
    {
     "data": {
      "text/plain": [
       "'..................Raghul Ramesh...................'"
      ]
     },
     "execution_count": 76,
     "metadata": {},
     "output_type": "execute_result"
    }
   ],
   "source": [
    "name.center(50,'.')"
   ]
  },
  {
   "cell_type": "code",
   "execution_count": 77,
   "id": "35c1e962",
   "metadata": {},
   "outputs": [
    {
     "data": {
      "text/plain": [
       "'Raghul Ramesh                                     '"
      ]
     },
     "execution_count": 77,
     "metadata": {},
     "output_type": "execute_result"
    }
   ],
   "source": [
    "name.ljust(50)"
   ]
  },
  {
   "cell_type": "code",
   "execution_count": 78,
   "id": "57645b34",
   "metadata": {},
   "outputs": [
    {
     "data": {
      "text/plain": [
       "'Raghul Ramesh*************************************'"
      ]
     },
     "execution_count": 78,
     "metadata": {},
     "output_type": "execute_result"
    }
   ],
   "source": [
    "name.ljust(50,'*')"
   ]
  },
  {
   "cell_type": "code",
   "execution_count": 79,
   "id": "d8d5316b",
   "metadata": {},
   "outputs": [
    {
     "data": {
      "text/plain": [
       "'                                     Raghul Ramesh'"
      ]
     },
     "execution_count": 79,
     "metadata": {},
     "output_type": "execute_result"
    }
   ],
   "source": [
    "name.rjust(50)"
   ]
  },
  {
   "cell_type": "code",
   "execution_count": 80,
   "id": "e77bf241",
   "metadata": {},
   "outputs": [
    {
     "data": {
      "text/plain": [
       "'~~~~~~~~~~~~~~~~~~~~~~~~~~~~~~~~~~~~~Raghul Ramesh'"
      ]
     },
     "execution_count": 80,
     "metadata": {},
     "output_type": "execute_result"
    }
   ],
   "source": [
    "name.rjust(50,'~')"
   ]
  },
  {
   "cell_type": "code",
   "execution_count": 81,
   "id": "b39652b5",
   "metadata": {},
   "outputs": [],
   "source": [
    "salary='5000000'"
   ]
  },
  {
   "cell_type": "code",
   "execution_count": 83,
   "id": "1da8b54a",
   "metadata": {},
   "outputs": [
    {
     "data": {
      "text/plain": [
       "'5000000000'"
      ]
     },
     "execution_count": 83,
     "metadata": {},
     "output_type": "execute_result"
    }
   ],
   "source": [
    "salary.ljust(10,'0')"
   ]
  },
  {
   "cell_type": "code",
   "execution_count": 84,
   "id": "7fe8093a",
   "metadata": {},
   "outputs": [
    {
     "data": {
      "text/plain": [
       "'0005000000'"
      ]
     },
     "execution_count": 84,
     "metadata": {},
     "output_type": "execute_result"
    }
   ],
   "source": [
    "salary.rjust(10,'0')"
   ]
  },
  {
   "cell_type": "code",
   "execution_count": 87,
   "id": "6b3bc0d2",
   "metadata": {},
   "outputs": [
    {
     "data": {
      "text/plain": [
       "'0005000000'"
      ]
     },
     "execution_count": 87,
     "metadata": {},
     "output_type": "execute_result"
    }
   ],
   "source": [
    "salary.zfill(10)"
   ]
  },
  {
   "cell_type": "code",
   "execution_count": null,
   "id": "ecea5e08",
   "metadata": {},
   "outputs": [],
   "source": []
  }
 ],
 "metadata": {
  "kernelspec": {
   "display_name": "Python 3 (ipykernel)",
   "language": "python",
   "name": "python3"
  },
  "language_info": {
   "codemirror_mode": {
    "name": "ipython",
    "version": 3
   },
   "file_extension": ".py",
   "mimetype": "text/x-python",
   "name": "python",
   "nbconvert_exporter": "python",
   "pygments_lexer": "ipython3",
   "version": "3.8.10"
  }
 },
 "nbformat": 4,
 "nbformat_minor": 5
}
